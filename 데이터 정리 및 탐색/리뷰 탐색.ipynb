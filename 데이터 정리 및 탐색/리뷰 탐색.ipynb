{
 "cells": [
  {
   "cell_type": "code",
   "execution_count": 57,
   "metadata": {},
   "outputs": [],
   "source": [
    "import pandas as pd\n",
    "from collections import Counter"
   ]
  },
  {
   "cell_type": "code",
   "execution_count": 20,
   "metadata": {},
   "outputs": [
    {
     "data": {
      "text/html": [
       "<div>\n",
       "<style>\n",
       "    .dataframe thead tr:only-child th {\n",
       "        text-align: right;\n",
       "    }\n",
       "\n",
       "    .dataframe thead th {\n",
       "        text-align: left;\n",
       "    }\n",
       "\n",
       "    .dataframe tbody tr th {\n",
       "        vertical-align: top;\n",
       "    }\n",
       "</style>\n",
       "<table border=\"1\" class=\"dataframe\">\n",
       "  <thead>\n",
       "    <tr style=\"text-align: right;\">\n",
       "      <th></th>\n",
       "      <th>Id</th>\n",
       "      <th>Rating</th>\n",
       "      <th>Review</th>\n",
       "      <th>Review_len_morph</th>\n",
       "    </tr>\n",
       "  </thead>\n",
       "  <tbody>\n",
       "    <tr>\n",
       "      <th>0</th>\n",
       "      <td>2301428333</td>\n",
       "      <td>추천</td>\n",
       "      <td>[('귀여운', 'Adjective'), ('동전지갑', 'Noun'), ('♡',...</td>\n",
       "      <td>32</td>\n",
       "    </tr>\n",
       "    <tr>\n",
       "      <th>1</th>\n",
       "      <td>2301428333</td>\n",
       "      <td>추천</td>\n",
       "      <td>[('기염', 'Noun'), ('깜', 'Verb'), ('찍', 'Noun'),...</td>\n",
       "      <td>33</td>\n",
       "    </tr>\n",
       "    <tr>\n",
       "      <th>2</th>\n",
       "      <td>2301428333</td>\n",
       "      <td>적극추천</td>\n",
       "      <td>[('너무', 'Noun'), ('이뻐', 'Adjective'), ('요', 'E...</td>\n",
       "      <td>30</td>\n",
       "    </tr>\n",
       "    <tr>\n",
       "      <th>3</th>\n",
       "      <td>2301428333</td>\n",
       "      <td>적극추천</td>\n",
       "      <td>[('강추템', 'Noun'), ('털', 'Noun'), ('빠짐', 'Verb'...</td>\n",
       "      <td>30</td>\n",
       "    </tr>\n",
       "    <tr>\n",
       "      <th>4</th>\n",
       "      <td>2301428333</td>\n",
       "      <td>적극추천</td>\n",
       "      <td>[('너무', 'Noun'), ('귀엽', 'Adjective'), ('습니다', ...</td>\n",
       "      <td>63</td>\n",
       "    </tr>\n",
       "  </tbody>\n",
       "</table>\n",
       "</div>"
      ],
      "text/plain": [
       "           Id Rating                                             Review  \\\n",
       "0  2301428333     추천  [('귀여운', 'Adjective'), ('동전지갑', 'Noun'), ('♡',...   \n",
       "1  2301428333     추천  [('기염', 'Noun'), ('깜', 'Verb'), ('찍', 'Noun'),...   \n",
       "2  2301428333   적극추천  [('너무', 'Noun'), ('이뻐', 'Adjective'), ('요', 'E...   \n",
       "3  2301428333   적극추천  [('강추템', 'Noun'), ('털', 'Noun'), ('빠짐', 'Verb'...   \n",
       "4  2301428333   적극추천  [('너무', 'Noun'), ('귀엽', 'Adjective'), ('습니다', ...   \n",
       "\n",
       "   Review_len_morph  \n",
       "0                32  \n",
       "1                33  \n",
       "2                30  \n",
       "3                30  \n",
       "4                63  "
      ]
     },
     "execution_count": 20,
     "metadata": {},
     "output_type": "execute_result"
    }
   ],
   "source": [
    "reviews_df = pd.read_csv(\"/Users/hwii/Documents/BOAZ/project/code/크롤링/Reviews_csv/Reviews_merged_processed.csv\",\n",
    "                     index_col=0)\n",
    "reviews_df.head()"
   ]
  },
  {
   "cell_type": "markdown",
   "metadata": {},
   "source": [
    "#### 길이"
   ]
  },
  {
   "cell_type": "code",
   "execution_count": 16,
   "metadata": {},
   "outputs": [
    {
     "name": "stdout",
     "output_type": "stream",
     "text": [
      "review 가져온 상품 개수: 11186\n"
     ]
    }
   ],
   "source": [
    "reviews_id = set(reviews['Id'].tolist())\n",
    "print(\"review 가져온 상품 개수: %d\" % len(reviews_id))"
   ]
  },
  {
   "cell_type": "markdown",
   "metadata": {},
   "source": [
    "#### 리뷰 단어"
   ]
  },
  {
   "cell_type": "code",
   "execution_count": 93,
   "metadata": {},
   "outputs": [
    {
     "data": {
      "text/plain": [
       "[(('요', 'Eomi'), 119371),\n",
       " (('.', 'Punctuation'), 68391),\n",
       " (('좋', 'Adjective'), 64890),\n",
       " (('이', 'Josa'), 64485),\n",
       " (('에', 'Josa'), 50055),\n",
       " (('도', 'Josa'), 47048),\n",
       " (('아요', 'Eomi'), 37162),\n",
       " (('가', 'Josa'), 36606),\n",
       " (('은', 'Josa'), 35252),\n",
       " (('네요', 'Eomi'), 34434)]"
      ]
     },
     "execution_count": 93,
     "metadata": {},
     "output_type": "execute_result"
    }
   ],
   "source": [
    "reviews_lists = reviews_df['Review'].tolist()\n",
    "reviews_list = [eval(review) for review in reviews_lists] \n",
    "reviews = [item for review in reviews_list for item in review]\n",
    "words_counter = Counter(reviews)\n",
    "words_counter.most_common(10)"
   ]
  },
  {
   "cell_type": "code",
   "execution_count": 100,
   "metadata": {},
   "outputs": [
    {
     "name": "stdout",
     "output_type": "stream",
     "text": [
      "리뷰에 포함된 unique word 개수: 39233\n"
     ]
    }
   ],
   "source": [
    "print(\"리뷰에 포함된 unique word 개수:\", len(words_counter))"
   ]
  },
  {
   "cell_type": "markdown",
   "metadata": {},
   "source": [
    "#### 만족도별 리뷰 개수"
   ]
  },
  {
   "cell_type": "code",
   "execution_count": 89,
   "metadata": {},
   "outputs": [
    {
     "data": {
      "text/html": [
       "<div>\n",
       "<style>\n",
       "    .dataframe thead tr:only-child th {\n",
       "        text-align: right;\n",
       "    }\n",
       "\n",
       "    .dataframe thead th {\n",
       "        text-align: left;\n",
       "    }\n",
       "\n",
       "    .dataframe tbody tr th {\n",
       "        vertical-align: top;\n",
       "    }\n",
       "</style>\n",
       "<table border=\"1\" class=\"dataframe\">\n",
       "  <thead>\n",
       "    <tr style=\"text-align: right;\">\n",
       "      <th></th>\n",
       "      <th>Review</th>\n",
       "      <th>%</th>\n",
       "    </tr>\n",
       "    <tr>\n",
       "      <th>Rating</th>\n",
       "      <th></th>\n",
       "      <th></th>\n",
       "    </tr>\n",
       "  </thead>\n",
       "  <tbody>\n",
       "    <tr>\n",
       "      <th>만족</th>\n",
       "      <td>56128.0</td>\n",
       "      <td>30.345529</td>\n",
       "    </tr>\n",
       "    <tr>\n",
       "      <th>보통</th>\n",
       "      <td>75344.0</td>\n",
       "      <td>40.734633</td>\n",
       "    </tr>\n",
       "    <tr>\n",
       "      <th>불만</th>\n",
       "      <td>14439.0</td>\n",
       "      <td>7.806426</td>\n",
       "    </tr>\n",
       "    <tr>\n",
       "      <th>적극추천</th>\n",
       "      <td>21484.0</td>\n",
       "      <td>11.615296</td>\n",
       "    </tr>\n",
       "    <tr>\n",
       "      <th>추천</th>\n",
       "      <td>13035.0</td>\n",
       "      <td>7.047355</td>\n",
       "    </tr>\n",
       "    <tr>\n",
       "      <th>추천안함</th>\n",
       "      <td>4533.0</td>\n",
       "      <td>2.450760</td>\n",
       "    </tr>\n",
       "    <tr>\n",
       "      <th>All</th>\n",
       "      <td>184963.0</td>\n",
       "      <td>100.000000</td>\n",
       "    </tr>\n",
       "  </tbody>\n",
       "</table>\n",
       "</div>"
      ],
      "text/plain": [
       "          Review           %\n",
       "Rating                      \n",
       "만족       56128.0   30.345529\n",
       "보통       75344.0   40.734633\n",
       "불만       14439.0    7.806426\n",
       "적극추천     21484.0   11.615296\n",
       "추천       13035.0    7.047355\n",
       "추천안함      4533.0    2.450760\n",
       "All     184963.0  100.000000"
      ]
     },
     "execution_count": 89,
     "metadata": {},
     "output_type": "execute_result"
    }
   ],
   "source": [
    "review_count_by_rating = reviews_df.pivot_table(index = 'Rating', values = 'Review',aggfunc = len, margins=True)\n",
    "review_count_by_rating['%'] = review_count_by_rating['Review']/184963*100\n",
    "review_count_by_rating"
   ]
  },
  {
   "cell_type": "code",
   "execution_count": null,
   "metadata": {},
   "outputs": [],
   "source": []
  }
 ],
 "metadata": {
  "kernelspec": {
   "display_name": "Python [conda env:anaconda]",
   "language": "python",
   "name": "conda-env-anaconda-py"
  },
  "language_info": {
   "codemirror_mode": {
    "name": "ipython",
    "version": 3
   },
   "file_extension": ".py",
   "mimetype": "text/x-python",
   "name": "python",
   "nbconvert_exporter": "python",
   "pygments_lexer": "ipython3",
   "version": "3.6.1"
  }
 },
 "nbformat": 4,
 "nbformat_minor": 2
}
