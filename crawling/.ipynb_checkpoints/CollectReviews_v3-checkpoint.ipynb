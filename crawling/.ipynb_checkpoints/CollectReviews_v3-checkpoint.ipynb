{
 "cells": [
  {
   "cell_type": "code",
   "execution_count": 1,
   "metadata": {},
   "outputs": [],
   "source": [
    "from selenium import webdriver\n",
    "from bs4 import BeautifulSoup\n",
    "import pandas as pd\n",
    "from urllib.request import urlopen\n",
    "import time\n",
    "import re\n",
    "import numpy as np\n",
    "from selenium.webdriver.common.action_chains import ActionChains\n",
    "from tqdm import tqdm_notebook"
   ]
  },
  {
   "cell_type": "code",
   "execution_count": 2,
   "metadata": {},
   "outputs": [],
   "source": [
    "Urls = pd.read_csv('url_total.csv', index_col = 0)"
   ]
  },
  {
   "cell_type": "code",
   "execution_count": 3,
   "metadata": {},
   "outputs": [
    {
     "name": "stdout",
     "output_type": "stream",
     "text": [
      "<class 'pandas.core.frame.DataFrame'>\n",
      "Int64Index: 25742 entries, 0 to 25741\n",
      "Data columns (total 2 columns):\n",
      "cat2    25742 non-null int64\n",
      "url     25742 non-null object\n",
      "dtypes: int64(1), object(1)\n",
      "memory usage: 603.3+ KB\n"
     ]
    }
   ],
   "source": [
    "Urls.info()"
   ]
  },
  {
   "cell_type": "code",
   "execution_count": 4,
   "metadata": {},
   "outputs": [],
   "source": [
    "top = ['12015003002','12015003003','12015003004',\n",
    "       '12015003005','12015003006','12015003007']\n",
    "outer = ['12015001001', '12015004001', '12015004002', '12015004003', '12015004004']\n",
    "bottom = ['12015009001', '12015009002', '12015009003', '12015009005', '12015009004']\n",
    "shoes = ['12016013001001', '12016013003001', '12016013007001', '12016013001002', '12016013002001',\n",
    "         '12016013004004', '12016013003002', '12016013002002', '12016013004005', '12016013001003',\n",
    "         '12016013004002', '12016013003003', '12016013001004', '12016013005', '12016013004003',\n",
    "         '12016013003004', '12016013001005', '12016013006', '12016013003005', '12016013007003',\n",
    "         '12016013002003', '12016013004001', '12016013008', '12016013009', '12016013001006',\n",
    "         '12016013003006', '12016013001007', '12016013003007', '12016013007004', '12016013007002',\n",
    "         '12016013010', '12016013001008', '12016013001009','12016013004006']\n",
    "bags = ['12016021001', '12016021002', '12016021003', '12016001001',\n",
    "        '12016001004001', '12016001002', '12016001003', '12016001004002',\n",
    "        '12016021004', '12016001004003', '12016001004004', '12016021005',\n",
    "        '12016021006', '12016021007', '12016021008', '12016001004006',\n",
    "        '12016001005', '12016001006', '12016001007', '12016001008', '12016001009']"
   ]
  },
  {
   "cell_type": "markdown",
   "metadata": {},
   "source": [
    "# 드라이버 위치 바꿔주기 ↓"
   ]
  },
  {
   "cell_type": "code",
   "execution_count": 20,
   "metadata": {},
   "outputs": [],
   "source": [
    "driver = webdriver.Chrome('/Users/hwii/Downloads/chromedriver_mac64/chromedriver')"
   ]
  },
  {
   "cell_type": "code",
   "execution_count": 6,
   "metadata": {},
   "outputs": [],
   "source": [
    "root = \"\"\"https://swindow.naver.com\"\"\""
   ]
  },
  {
   "cell_type": "code",
   "execution_count": 7,
   "metadata": {},
   "outputs": [],
   "source": [
    "def click_item(variable):\n",
    "    driver.execute_script(\"return arguments[0].scrollIntoView();\", variable)\n",
    "    time.sleep(0.5)\n",
    "    ActionChains(driver).click(variable).perform()\n",
    "    time.sleep(0.5)"
   ]
  },
  {
   "cell_type": "markdown",
   "metadata": {},
   "source": [
    "# !! 테스트 !!\n",
    "## 다섯개만 일단 먼저 돌려보기 "
   ]
  },
  {
   "cell_type": "code",
   "execution_count": 8,
   "metadata": {},
   "outputs": [
    {
     "name": "stderr",
     "output_type": "stream",
     "text": [
      "Widget Javascript not detected.  It may not be installed or enabled properly.\n"
     ]
    },
    {
     "data": {
      "application/vnd.jupyter.widget-view+json": {
       "model_id": "44bda38c864e4068938be45a69248b62"
      }
     },
     "metadata": {},
     "output_type": "display_data"
    },
    {
     "name": "stdout",
     "output_type": "stream",
     "text": [
      "\n"
     ]
    }
   ],
   "source": [
    "reviews = []\n",
    "ratings = []\n",
    "error_url = []\n",
    "product_id = []\n",
    "\n",
    "# 임의로 12000번 이후로 일단 설정해뒀어! 나는 1200개까지 지금 돌려놓음 ㅎㅎ\n",
    "for url in tqdm_notebook(Urls['url'][12000:12005]):\n",
    "    driver.get(root+url)\n",
    "    time.sleep(0.5)\n",
    "    prod_id = re.split('\\?|/', url)[2]\n",
    "    try:\n",
    "        # 0. 리뷰 가져올 준비\n",
    "        # 리뷰 섹션 클릭하기\n",
    "        showreview = driver.find_element_by_xpath(\"\"\"//*[@id=\"content\"]/div[1]/div[2]/ul/li[2]/a\"\"\")\n",
    "        showreview.click()\n",
    "\n",
    "        # 프리미엄 리뷰 더보기\n",
    "        showmore = driver.find_elements_by_class_name('button_more')\n",
    "        for button in showmore:\n",
    "            click_item(button)\n",
    "            \n",
    "        # 1. 리뷰 가져오기\n",
    "        # 1-1. 프리미엄 리뷰 (제목), 일반 리뷰 (본문) 소스 구분 없이 다 찾기\n",
    "        rev = driver.find_elements_by_class_name(\"header_review_comment\")\n",
    "        rev_total_cnt = len(rev) # 전체 리뷰 갯수 저장\n",
    "        \n",
    "        # 1-2. 프리미엄 리뷰 본문만 따로 찾기\n",
    "        prm_rev_location = driver.find_elements_by_class_name(\"area_full_article\");\n",
    "        prm_cnt = len(prm_rev_location) # 프리미엄 리뷰 갯수 저장\n",
    "        \n",
    "        # 1-3. 1-1에서 찾은 프리미엄 리뷰 제목이랑 본문 합칠건데, 리스트 길이가 안 맞으니까 맞춰주기\n",
    "        prm_extend = [''] * (len(rev) - len(prm_rev_location))\n",
    "        prm_rev_contents = [item.text.split('\\n판매자 ')[0] for item in prm_rev_location] + prm_extend\n",
    "        \n",
    "        # 1-4. 일반 리뷰 소스에서 본문 text 가져오기\n",
    "        rev_content = [item.text for item in rev]\n",
    "        \n",
    "        # 1-5. 프리미엄 : 제목이랑 본문 합치기, 일반 리뷰\n",
    "        total_content = [rev_content[i] + ' ' + prm_rev_contents[i] for i in range(rev_total_cnt)]\n",
    "        \n",
    "        # 1-6. 리뷰 total_content에 저장!\n",
    "        reviews.extend(total_content)\n",
    "        \n",
    "        # 2. 만족도 가져오기\n",
    "        html = driver.page_source\n",
    "        soup = BeautifulSoup(html, 'html.parser')\n",
    "        rate_loc = soup.find_all('div', 'col_label') # 만족도 소스 찾기\n",
    "        rate = [r.get_text().strip() for r in rate_loc] # 텍스트만 따로 저장\n",
    "        ratings.extend(rate) # rating 에 저장\n",
    "        \n",
    "        # 3. 상품 번호 저장 (리뷰의 수만큼! 같은 상품의 리뷰임을 알아야하니까)\n",
    "        product_id.extend([prod_id] * rev_total_cnt)\n",
    "\n",
    "    except:\n",
    "        # 에러난 애들 ㅠㅠ\n",
    "        product_id.append(prod_id) # 상품 번호 기록\n",
    "        reviews.append(None) # 리뷰, 만족도에는 None\n",
    "        ratings.append(None) \n",
    "        error_url.append(url) # 따로 url 저장"
   ]
  },
  {
   "cell_type": "markdown",
   "metadata": {},
   "source": [
    "## 확인사항"
   ]
  },
  {
   "cell_type": "code",
   "execution_count": 9,
   "metadata": {},
   "outputs": [
    {
     "data": {
      "text/plain": [
       "(7, 7, 7)"
      ]
     },
     "execution_count": 9,
     "metadata": {},
     "output_type": "execute_result"
    }
   ],
   "source": [
    "# 1. 길이가 서로 맞는지\n",
    "len(reviews), len(product_id), len(ratings)"
   ]
  },
  {
   "cell_type": "code",
   "execution_count": 10,
   "metadata": {},
   "outputs": [
    {
     "data": {
      "text/plain": [
       "['이쁩니다. ^^ ',\n",
       " '구두가 많이구겨져 와서 기분이 안좋았지만 색깔은 이뻐요 그리고 배송은 빨라요 ',\n",
       " None,\n",
       " None,\n",
       " None,\n",
       " '무리하게 빠른배송 요구햇는데 약속지켜주셔서 넘 감사했어요! 가죽상태도 넘좋고 완전 만족합니다~~^^ ',\n",
       " '너무 맘에들어요 발도 오래신어도 안아프네요 ']"
      ]
     },
     "execution_count": 10,
     "metadata": {},
     "output_type": "execute_result"
    }
   ],
   "source": [
    "# 2. 잘 나왔나 한번 보기\n",
    "reviews"
   ]
  },
  {
   "cell_type": "markdown",
   "metadata": {},
   "source": [
    "# !! 여기부터 진짜 코드 !!\n",
    "## *실행 전 수정사항*\n",
    "## 1. for 문 시작되는 곳에 어느 부분 데이터 돌릴지 설정하기\n",
    "## 2. 맨 아랫줄에 저장할 csv 파일 이름 바꾸기\n",
    "### 아직 상품 태그는 안 가져옴 ㅠㅠ 일단 리뷰만.. 나중에 에러 안난 링크랑 상품평 적어도 n개 이상 등등 각종 기준 만족하는 애들만 추려서 상품 정보 가져오자!"
   ]
  },
  {
   "cell_type": "code",
   "execution_count": 21,
   "metadata": {},
   "outputs": [
    {
     "name": "stderr",
     "output_type": "stream",
     "text": [
      "Widget Javascript not detected.  It may not be installed or enabled properly.\n"
     ]
    },
    {
     "data": {
      "application/vnd.jupyter.widget-view+json": {
       "model_id": "c987cf30a8cd4893bea784e05c84dd63"
      }
     },
     "metadata": {},
     "output_type": "display_data"
    },
    {
     "name": "stdout",
     "output_type": "stream",
     "text": [
      "\n"
     ]
    },
    {
     "name": "stderr",
     "output_type": "stream",
     "text": [
      "Exception in thread Thread-6:\n",
      "Traceback (most recent call last):\n",
      "  File \"/Users/hwii/anaconda/lib/python3.6/threading.py\", line 916, in _bootstrap_inner\n",
      "    self.run()\n",
      "  File \"/Users/hwii/anaconda/lib/python3.6/site-packages/tqdm/_tqdm.py\", line 144, in run\n",
      "    for instance in self.tqdm_cls._instances:\n",
      "  File \"/Users/hwii/anaconda/lib/python3.6/_weakrefset.py\", line 60, in __iter__\n",
      "    for itemref in self.data:\n",
      "RuntimeError: Set changed size during iteration\n",
      "\n"
     ]
    },
    {
     "name": "stdout",
     "output_type": "stream",
     "text": [
      "\n"
     ]
    }
   ],
   "source": [
    "reviews = []\n",
    "ratings = []\n",
    "error_url = []\n",
    "product_id = []\n",
    "\n",
    "# 임의로 12000번 이후로 일단 설정해뒀어! 나는 1200개까지 지금 돌려놓음 ㅎㅎ\n",
    "for url in tqdm_notebook(Urls['url'][16000:17999]):\n",
    "    driver.get(root+url)\n",
    "    time.sleep(0.5)\n",
    "    prod_id = re.split('\\?|/', url)[2]\n",
    "    try:\n",
    "        # 0. 리뷰 가져올 준비\n",
    "        # 리뷰 섹션 클릭하기\n",
    "        time.sleep(1)\n",
    "        showreview = driver.find_element_by_xpath(\"\"\"//*[@id=\"content\"]/div[1]/div[2]/ul/li[2]/a\"\"\")\n",
    "        showreview.click()\n",
    "\n",
    "        # 프리미엄 리뷰 더보기\n",
    "        showmore = driver.find_elements_by_class_name('button_more')\n",
    "        for button in showmore:\n",
    "            click_item(button)\n",
    "            \n",
    "        # 1. 리뷰 가져오기\n",
    "        # 1-1. 프리미엄 리뷰 (제목), 일반 리뷰 (본문) 소스 구분 없이 다 찾기\n",
    "        rev = driver.find_elements_by_class_name(\"header_review_comment\")\n",
    "        rev_total_cnt = len(rev) # 전체 리뷰 갯수 저장\n",
    "        \n",
    "        # 1-2. 프리미엄 리뷰 본문만 따로 찾기\n",
    "        prm_rev_location = driver.find_elements_by_class_name(\"area_full_article\");\n",
    "        prm_cnt = len(prm_rev_location) # 프리미엄 리뷰 갯수 저장\n",
    "        \n",
    "        # 1-3. 1-1에서 찾은 프리미엄 리뷰 제목이랑 본문 합칠건데, 리스트 길이가 안 맞으니까 맞춰주기\n",
    "        prm_extend = [''] * (len(rev) - len(prm_rev_location))\n",
    "        prm_rev_contents = [item.text.split('\\n판매자 ')[0] for item in prm_rev_location] + prm_extend\n",
    "        \n",
    "        # 1-4. 일반 리뷰 소스에서 본문 text 가져오기\n",
    "        rev_content = [item.text for item in rev]\n",
    "        \n",
    "        # 1-5. 프리미엄 : 제목이랑 본문 합치기, 일반 리뷰\n",
    "        total_content = [rev_content[i] + ' ' + prm_rev_contents[i] for i in range(rev_total_cnt)]\n",
    "        \n",
    "        # 1-6. 리뷰 total_content에 저장!\n",
    "        reviews.extend(total_content)\n",
    "        \n",
    "        # 2. 만족도 가져오기\n",
    "        html = driver.page_source\n",
    "        soup = BeautifulSoup(html, 'html.parser')\n",
    "        rate_loc = soup.find_all('div', 'col_label') # 만족도 소스 찾기\n",
    "        rate = [r.get_text().strip() for r in rate_loc] # 텍스트만 따로 저장\n",
    "        ratings.extend(rate) # rating 에 저장\n",
    "        \n",
    "        # 3. 상품 번호 저장 (리뷰의 수만큼! 같은 상품의 리뷰임을 알아야하니까)\n",
    "        product_id.extend([prod_id] * rev_total_cnt)\n",
    "\n",
    "    except:\n",
    "        # 에러난 애들 ㅠㅠ\n",
    "        product_id.append(prod_id) # 상품 번호 기록\n",
    "        reviews.append(None) # 리뷰, 만족도에는 None\n",
    "        ratings.append(None) \n",
    "        error_url.append(url) # 따로 url 저장\n",
    "        \n",
    "# 데이터 프레임으로 만들어서 csv 파일로 저장\n",
    "df = pd.DataFrame({'Review': reviews, 'Rating': ratings, 'Id': product_id})\n",
    "df.to_csv('Reviews_16000_17999.csv', encoding = 'utf-8') # 어떤 부분인지 이름 바꿔주기"
   ]
  },
  {
   "cell_type": "code",
   "execution_count": 23,
   "metadata": {},
   "outputs": [
    {
     "data": {
      "text/html": [
       "<div>\n",
       "<style>\n",
       "    .dataframe thead tr:only-child th {\n",
       "        text-align: right;\n",
       "    }\n",
       "\n",
       "    .dataframe thead th {\n",
       "        text-align: left;\n",
       "    }\n",
       "\n",
       "    .dataframe tbody tr th {\n",
       "        vertical-align: top;\n",
       "    }\n",
       "</style>\n",
       "<table border=\"1\" class=\"dataframe\">\n",
       "  <thead>\n",
       "    <tr style=\"text-align: right;\">\n",
       "      <th></th>\n",
       "      <th>Id</th>\n",
       "      <th>Rating</th>\n",
       "      <th>Review</th>\n",
       "    </tr>\n",
       "  </thead>\n",
       "  <tbody>\n",
       "    <tr>\n",
       "      <th>0</th>\n",
       "      <td>1003446932</td>\n",
       "      <td>None</td>\n",
       "      <td>None</td>\n",
       "    </tr>\n",
       "    <tr>\n",
       "      <th>1</th>\n",
       "      <td>1002899023</td>\n",
       "      <td>None</td>\n",
       "      <td>None</td>\n",
       "    </tr>\n",
       "    <tr>\n",
       "      <th>2</th>\n",
       "      <td>2116068593</td>\n",
       "      <td>None</td>\n",
       "      <td>None</td>\n",
       "    </tr>\n",
       "    <tr>\n",
       "      <th>3</th>\n",
       "      <td>2629334122</td>\n",
       "      <td>None</td>\n",
       "      <td>None</td>\n",
       "    </tr>\n",
       "    <tr>\n",
       "      <th>4</th>\n",
       "      <td>2592221774</td>\n",
       "      <td>None</td>\n",
       "      <td>None</td>\n",
       "    </tr>\n",
       "    <tr>\n",
       "      <th>5</th>\n",
       "      <td>2642577981</td>\n",
       "      <td>None</td>\n",
       "      <td>None</td>\n",
       "    </tr>\n",
       "    <tr>\n",
       "      <th>6</th>\n",
       "      <td>1002788648</td>\n",
       "      <td>None</td>\n",
       "      <td>None</td>\n",
       "    </tr>\n",
       "    <tr>\n",
       "      <th>7</th>\n",
       "      <td>2716277611</td>\n",
       "      <td>None</td>\n",
       "      <td>None</td>\n",
       "    </tr>\n",
       "    <tr>\n",
       "      <th>8</th>\n",
       "      <td>2137043965</td>\n",
       "      <td>None</td>\n",
       "      <td>None</td>\n",
       "    </tr>\n",
       "    <tr>\n",
       "      <th>9</th>\n",
       "      <td>1003578402</td>\n",
       "      <td>None</td>\n",
       "      <td>None</td>\n",
       "    </tr>\n",
       "    <tr>\n",
       "      <th>10</th>\n",
       "      <td>2596288480</td>\n",
       "      <td>None</td>\n",
       "      <td>None</td>\n",
       "    </tr>\n",
       "    <tr>\n",
       "      <th>11</th>\n",
       "      <td>1001775682</td>\n",
       "      <td>None</td>\n",
       "      <td>None</td>\n",
       "    </tr>\n",
       "    <tr>\n",
       "      <th>12</th>\n",
       "      <td>2666404302</td>\n",
       "      <td>None</td>\n",
       "      <td>None</td>\n",
       "    </tr>\n",
       "    <tr>\n",
       "      <th>13</th>\n",
       "      <td>2701170075</td>\n",
       "      <td>None</td>\n",
       "      <td>None</td>\n",
       "    </tr>\n",
       "    <tr>\n",
       "      <th>14</th>\n",
       "      <td>2653520523</td>\n",
       "      <td>None</td>\n",
       "      <td>None</td>\n",
       "    </tr>\n",
       "    <tr>\n",
       "      <th>15</th>\n",
       "      <td>2553448989</td>\n",
       "      <td>None</td>\n",
       "      <td>None</td>\n",
       "    </tr>\n",
       "    <tr>\n",
       "      <th>16</th>\n",
       "      <td>2841659721</td>\n",
       "      <td>None</td>\n",
       "      <td>None</td>\n",
       "    </tr>\n",
       "    <tr>\n",
       "      <th>17</th>\n",
       "      <td>2588619484</td>\n",
       "      <td>None</td>\n",
       "      <td>None</td>\n",
       "    </tr>\n",
       "    <tr>\n",
       "      <th>18</th>\n",
       "      <td>2545809123</td>\n",
       "      <td>None</td>\n",
       "      <td>None</td>\n",
       "    </tr>\n",
       "    <tr>\n",
       "      <th>19</th>\n",
       "      <td>2542379203</td>\n",
       "      <td>None</td>\n",
       "      <td>None</td>\n",
       "    </tr>\n",
       "    <tr>\n",
       "      <th>20</th>\n",
       "      <td>2178014558</td>\n",
       "      <td>None</td>\n",
       "      <td>None</td>\n",
       "    </tr>\n",
       "    <tr>\n",
       "      <th>21</th>\n",
       "      <td>2709835228</td>\n",
       "      <td>None</td>\n",
       "      <td>None</td>\n",
       "    </tr>\n",
       "    <tr>\n",
       "      <th>22</th>\n",
       "      <td>2648827119</td>\n",
       "      <td>None</td>\n",
       "      <td>None</td>\n",
       "    </tr>\n",
       "    <tr>\n",
       "      <th>23</th>\n",
       "      <td>1003348008</td>\n",
       "      <td>None</td>\n",
       "      <td>None</td>\n",
       "    </tr>\n",
       "    <tr>\n",
       "      <th>24</th>\n",
       "      <td>2434676234</td>\n",
       "      <td>None</td>\n",
       "      <td>None</td>\n",
       "    </tr>\n",
       "    <tr>\n",
       "      <th>25</th>\n",
       "      <td>2619280703</td>\n",
       "      <td>None</td>\n",
       "      <td>None</td>\n",
       "    </tr>\n",
       "    <tr>\n",
       "      <th>26</th>\n",
       "      <td>2630967944</td>\n",
       "      <td>None</td>\n",
       "      <td>None</td>\n",
       "    </tr>\n",
       "    <tr>\n",
       "      <th>27</th>\n",
       "      <td>2640384208</td>\n",
       "      <td>None</td>\n",
       "      <td>None</td>\n",
       "    </tr>\n",
       "    <tr>\n",
       "      <th>28</th>\n",
       "      <td>2594567354</td>\n",
       "      <td>None</td>\n",
       "      <td>None</td>\n",
       "    </tr>\n",
       "    <tr>\n",
       "      <th>29</th>\n",
       "      <td>2136877230</td>\n",
       "      <td>None</td>\n",
       "      <td>None</td>\n",
       "    </tr>\n",
       "  </tbody>\n",
       "</table>\n",
       "</div>"
      ],
      "text/plain": [
       "            Id Rating Review\n",
       "0   1003446932   None   None\n",
       "1   1002899023   None   None\n",
       "2   2116068593   None   None\n",
       "3   2629334122   None   None\n",
       "4   2592221774   None   None\n",
       "5   2642577981   None   None\n",
       "6   1002788648   None   None\n",
       "7   2716277611   None   None\n",
       "8   2137043965   None   None\n",
       "9   1003578402   None   None\n",
       "10  2596288480   None   None\n",
       "11  1001775682   None   None\n",
       "12  2666404302   None   None\n",
       "13  2701170075   None   None\n",
       "14  2653520523   None   None\n",
       "15  2553448989   None   None\n",
       "16  2841659721   None   None\n",
       "17  2588619484   None   None\n",
       "18  2545809123   None   None\n",
       "19  2542379203   None   None\n",
       "20  2178014558   None   None\n",
       "21  2709835228   None   None\n",
       "22  2648827119   None   None\n",
       "23  1003348008   None   None\n",
       "24  2434676234   None   None\n",
       "25  2619280703   None   None\n",
       "26  2630967944   None   None\n",
       "27  2640384208   None   None\n",
       "28  2594567354   None   None\n",
       "29  2136877230   None   None"
      ]
     },
     "execution_count": 23,
     "metadata": {},
     "output_type": "execute_result"
    }
   ],
   "source": [
    "df.head(30)"
   ]
  },
  {
   "cell_type": "code",
   "execution_count": null,
   "metadata": {},
   "outputs": [],
   "source": []
  }
 ],
 "metadata": {
  "kernelspec": {
   "display_name": "Python [default]",
   "language": "python",
   "name": "python3"
  },
  "language_info": {
   "codemirror_mode": {
    "name": "ipython",
    "version": 3
   },
   "file_extension": ".py",
   "mimetype": "text/x-python",
   "name": "python",
   "nbconvert_exporter": "python",
   "pygments_lexer": "ipython3",
   "version": "3.6.1"
  }
 },
 "nbformat": 4,
 "nbformat_minor": 2
}
