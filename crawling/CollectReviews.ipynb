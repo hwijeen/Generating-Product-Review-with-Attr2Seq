{
 "cells": [
  {
   "cell_type": "code",
   "execution_count": 21,
   "metadata": {},
   "outputs": [],
   "source": [
    "from selenium import webdriver\n",
    "from bs4 import BeautifulSoup\n",
    "import pandas as pd\n",
    "from urllib.request import urlopen\n",
    "import time\n",
    "import re\n",
    "import numpy as np\n",
    "from selenium.webdriver.common.action_chains import ActionChains\n",
    "from tqdm import tqdm_notebook"
   ]
  },
  {
   "cell_type": "code",
   "execution_count": 22,
   "metadata": {},
   "outputs": [],
   "source": [
    "Urls = pd.read_csv('url_total.csv', index_col = 0)"
   ]
  },
  {
   "cell_type": "code",
   "execution_count": 23,
   "metadata": {},
   "outputs": [
    {
     "name": "stdout",
     "output_type": "stream",
     "text": [
      "<class 'pandas.core.frame.DataFrame'>\n",
      "Int64Index: 25742 entries, 0 to 25741\n",
      "Data columns (total 2 columns):\n",
      "cat2    25742 non-null int64\n",
      "url     25742 non-null object\n",
      "dtypes: int64(1), object(1)\n",
      "memory usage: 603.3+ KB\n"
     ]
    }
   ],
   "source": [
    "Urls.info()"
   ]
  },
  {
   "cell_type": "code",
   "execution_count": 24,
   "metadata": {},
   "outputs": [],
   "source": [
    "top = ['12015003002','12015003003','12015003004',\n",
    "       '12015003005','12015003006','12015003007']\n",
    "outer = ['12015001001', '12015004001', '12015004002', '12015004003', '12015004004']\n",
    "bottom = ['12015009001', '12015009002', '12015009003', '12015009005', '12015009004']\n",
    "shoes = ['12016013001001', '12016013003001', '12016013007001', '12016013001002', '12016013002001',\n",
    "         '12016013004004', '12016013003002', '12016013002002', '12016013004005', '12016013001003',\n",
    "         '12016013004002', '12016013003003', '12016013001004', '12016013005', '12016013004003',\n",
    "         '12016013003004', '12016013001005', '12016013006', '12016013003005', '12016013007003',\n",
    "         '12016013002003', '12016013004001', '12016013008', '12016013009', '12016013001006',\n",
    "         '12016013003006', '12016013001007', '12016013003007', '12016013007004', '12016013007002',\n",
    "         '12016013010', '12016013001008', '12016013001009','12016013004006']\n",
    "bags = ['12016021001', '12016021002', '12016021003', '12016001001',\n",
    "        '12016001004001', '12016001002', '12016001003', '12016001004002',\n",
    "        '12016021004', '12016001004003', '12016001004004', '12016021005',\n",
    "        '12016021006', '12016021007', '12016021008', '12016001004006',\n",
    "        '12016001005', '12016001006', '12016001007', '12016001008', '12016001009']"
   ]
  },
  {
   "cell_type": "markdown",
   "metadata": {},
   "source": [
    "# 드라이버 위치 바꿔주기 ↓"
   ]
  },
  {
   "cell_type": "code",
   "execution_count": 34,
   "metadata": {},
   "outputs": [],
   "source": [
    "driver = webdriver.Chrome('/Users/hwii/Downloads/chromedriver_mac64/chromedriver')"
   ]
  },
  {
   "cell_type": "code",
   "execution_count": 35,
   "metadata": {},
   "outputs": [],
   "source": [
    "root = \"\"\"https://swindow.naver.com\"\"\""
   ]
  },
  {
   "cell_type": "code",
   "execution_count": 7,
   "metadata": {},
   "outputs": [],
   "source": [
    "def click_item(variable):\n",
    "    driver.execute_script(\"return arguments[0].scrollIntoView();\", variable)\n",
    "    time.sleep(0.5)\n",
    "    ActionChains(driver).click(variable).perform()\n",
    "    time.sleep(0.5)"
   ]
  },
  {
   "cell_type": "markdown",
   "metadata": {},
   "source": [
    "# !! 테스트 !!\n",
    "## 다섯개만 일단 먼저 돌려보기 "
   ]
  },
  {
   "cell_type": "code",
   "execution_count": 8,
   "metadata": {},
   "outputs": [
    {
     "data": {
      "application/vnd.jupyter.widget-view+json": {
       "model_id": "9bb53e076f634b1ca35f76a8794307b5"
      }
     },
     "metadata": {},
     "output_type": "display_data"
    },
    {
     "name": "stdout",
     "output_type": "stream",
     "text": [
      "\n"
     ]
    }
   ],
   "source": [
    "reviews = []\n",
    "ratings = []\n",
    "error_url = []\n",
    "product_id = []\n",
    "\n",
    "# 임의로 12000번 이후로 일단 설정해뒀어! 나는 1200개까지 지금 돌려놓음 ㅎㅎ\n",
    "for url in tqdm_notebook(Urls['url'][12000:12005]):\n",
    "    driver.get(root+url)\n",
    "    time.sleep(0.5)\n",
    "    prod_id = re.split('\\?|/', url)[2]\n",
    "    try:\n",
    "        # 0. 리뷰 가져올 준비\n",
    "        # 리뷰 섹션 클릭하기\n",
    "        showreview = driver.find_element_by_xpath(\"\"\"//*[@id=\"content\"]/div[1]/div[2]/ul/li[2]/a\"\"\")\n",
    "        showreview.click()\n",
    "\n",
    "        # 프리미엄 리뷰 더보기\n",
    "        showmore = driver.find_elements_by_class_name('button_more')\n",
    "        for button in showmore:\n",
    "            click_item(button)\n",
    "            \n",
    "        # 1. 리뷰 가져오기\n",
    "        # 1-1. 프리미엄 리뷰 (제목), 일반 리뷰 (본문) 소스 구분 없이 다 찾기\n",
    "        rev = driver.find_elements_by_class_name(\"header_review_comment\")\n",
    "        rev_total_cnt = len(rev) # 전체 리뷰 갯수 저장\n",
    "        \n",
    "        # 1-2. 프리미엄 리뷰 본문만 따로 찾기\n",
    "        prm_rev_location = driver.find_elements_by_class_name(\"area_full_article\");\n",
    "        prm_cnt = len(prm_rev_location) # 프리미엄 리뷰 갯수 저장\n",
    "        \n",
    "        # 1-3. 1-1에서 찾은 프리미엄 리뷰 제목이랑 본문 합칠건데, 리스트 길이가 안 맞으니까 맞춰주기\n",
    "        prm_extend = [''] * (len(rev) - len(prm_rev_location))\n",
    "        prm_rev_contents = [item.text.split('\\n판매자 ')[0] for item in prm_rev_location] + prm_extend\n",
    "        \n",
    "        # 1-4. 일반 리뷰 소스에서 본문 text 가져오기\n",
    "        rev_content = [item.text for item in rev]\n",
    "        \n",
    "        # 1-5. 프리미엄 : 제목이랑 본문 합치기, 일반 리뷰\n",
    "        total_content = [rev_content[i] + ' ' + prm_rev_contents[i] for i in range(rev_total_cnt)]\n",
    "        \n",
    "        # 1-6. 리뷰 total_content에 저장!\n",
    "        reviews.extend(total_content)\n",
    "        \n",
    "        # 2. 만족도 가져오기\n",
    "        html = driver.page_source\n",
    "        soup = BeautifulSoup(html, 'html.parser')\n",
    "        rate_loc = soup.find_all('div', 'col_label') # 만족도 소스 찾기\n",
    "        rate = [r.get_text().strip() for r in rate_loc] # 텍스트만 따로 저장\n",
    "        ratings.extend(rate) # rating 에 저장\n",
    "        \n",
    "        # 3. 상품 번호 저장 (리뷰의 수만큼! 같은 상품의 리뷰임을 알아야하니까)\n",
    "        product_id.extend([prod_id] * rev_total_cnt)\n",
    "\n",
    "    except:\n",
    "        # 에러난 애들 ㅠㅠ\n",
    "        product_id.append(prod_id) # 상품 번호 기록\n",
    "        reviews.append(None) # 리뷰, 만족도에는 None\n",
    "        ratings.append(None) \n",
    "        error_url.append(url) # 따로 url 저장"
   ]
  },
  {
   "cell_type": "markdown",
   "metadata": {},
   "source": [
    "## 확인사항"
   ]
  },
  {
   "cell_type": "code",
   "execution_count": 9,
   "metadata": {},
   "outputs": [
    {
     "data": {
      "text/plain": [
       "(7, 7, 7)"
      ]
     },
     "execution_count": 9,
     "metadata": {},
     "output_type": "execute_result"
    }
   ],
   "source": [
    "# 1. 길이가 서로 맞는지\n",
    "len(reviews), len(product_id), len(ratings)"
   ]
  },
  {
   "cell_type": "code",
   "execution_count": 10,
   "metadata": {},
   "outputs": [
    {
     "data": {
      "text/plain": [
       "['이쁩니다. ^^ ',\n",
       " '구두가 많이구겨져 와서 기분이 안좋았지만 색깔은 이뻐요 그리고 배송은 빨라요 ',\n",
       " None,\n",
       " None,\n",
       " None,\n",
       " '무리하게 빠른배송 요구햇는데 약속지켜주셔서 넘 감사했어요! 가죽상태도 넘좋고 완전 만족합니다~~^^ ',\n",
       " '너무 맘에들어요 발도 오래신어도 안아프네요 ']"
      ]
     },
     "execution_count": 10,
     "metadata": {},
     "output_type": "execute_result"
    }
   ],
   "source": [
    "# 2. 잘 나왔나 한번 보기\n",
    "reviews"
   ]
  },
  {
   "cell_type": "markdown",
   "metadata": {},
   "source": [
    "# !! 여기부터 진짜 코드 !!\n",
    "## *실행 전 수정사항*\n",
    "## 1. for 문 시작되는 곳에 어느 부분 데이터 돌릴지 설정하기\n",
    "## 2. 맨 아랫줄에 저장할 csv 파일 이름 바꾸기\n",
    "### 아직 상품 태그는 안 가져옴 ㅠㅠ 일단 리뷰만.. 나중에 에러 안난 링크랑 상품평 적어도 n개 이상 등등 각종 기준 만족하는 애들만 추려서 상품 정보 가져오자!"
   ]
  },
  {
   "cell_type": "code",
   "execution_count": 36,
   "metadata": {},
   "outputs": [
    {
     "data": {
      "application/vnd.jupyter.widget-view+json": {
       "model_id": "3bbf37abee3f42d4843097afa311aa54"
      }
     },
     "metadata": {},
     "output_type": "display_data"
    },
    {
     "name": "stdout",
     "output_type": "stream",
     "text": [
      "\n"
     ]
    }
   ],
   "source": [
    "reviews = []\n",
    "ratings = []\n",
    "error_url = []\n",
    "product_id = []\n",
    "\n",
    "# 임의로 12000번 이후로 일단 설정해뒀어! 나는 1200개까지 지금 돌려놓음 ㅎㅎ\n",
    "for url in tqdm_notebook(Urls['url'][24722:]):\n",
    "    driver.get(root+url)\n",
    "    time.sleep(0.5)\n",
    "    prod_id = re.split('\\?|/', url)[2]\n",
    "    try:\n",
    "        # 0. 리뷰 가져올 준비\n",
    "        # 리뷰 섹션 클릭하기\n",
    "        #time.sleep(2)\n",
    "        showreview = driver.find_element_by_xpath(\"\"\"//*[@id=\"content\"]/div[1]/div[2]/ul/li[2]/a\"\"\")\n",
    "        #showreview.click()\n",
    "        click_item(showreview)\n",
    "\n",
    "        # 프리미엄 리뷰 더보기\n",
    "        showmore = driver.find_elements_by_class_name('button_more')\n",
    "        for button in showmore:\n",
    "            click_item(button)\n",
    "            \n",
    "        # 1. 리뷰 가져오기\n",
    "        # 1-1. 프리미엄 리뷰 (제목), 일반 리뷰 (본문) 소스 구분 없이 다 찾기\n",
    "        rev = driver.find_elements_by_class_name(\"header_review_comment\")\n",
    "        rev_total_cnt = len(rev) # 전체 리뷰 갯수 저장\n",
    "        \n",
    "        # 1-2. 프리미엄 리뷰 본문만 따로 찾기\n",
    "        prm_rev_location = driver.find_elements_by_class_name(\"area_full_article\");\n",
    "        prm_cnt = len(prm_rev_location) # 프리미엄 리뷰 갯수 저장\n",
    "        \n",
    "        # 1-3. 1-1에서 찾은 프리미엄 리뷰 제목이랑 본문 합칠건데, 리스트 길이가 안 맞으니까 맞춰주기\n",
    "        prm_extend = [''] * (len(rev) - len(prm_rev_location))\n",
    "        prm_rev_contents = [item.text.split('\\n판매자 ')[0] for item in prm_rev_location] + prm_extend\n",
    "        \n",
    "        # 1-4. 일반 리뷰 소스에서 본문 text 가져오기\n",
    "        rev_content = [item.text for item in rev]\n",
    "        \n",
    "        # 1-5. 프리미엄 : 제목이랑 본문 합치기, 일반 리뷰\n",
    "        total_content = [rev_content[i] + ' ' + prm_rev_contents[i] for i in range(rev_total_cnt)]\n",
    "        \n",
    "        # 1-6. 리뷰 total_content에 저장!\n",
    "        reviews.extend(total_content)\n",
    "        \n",
    "        # 2. 만족도 가져오기\n",
    "        html = driver.page_source\n",
    "        soup = BeautifulSoup(html, 'html.parser')\n",
    "        rate_loc = soup.find_all('div', 'col_label') # 만족도 소스 찾기\n",
    "        rate = [r.get_text().strip() for r in rate_loc] # 텍스트만 따로 저장\n",
    "        ratings.extend(rate) # rating 에 저장\n",
    "        \n",
    "        # 3. 상품 번호 저장 (리뷰의 수만큼! 같은 상품의 리뷰임을 알아야하니까)\n",
    "        product_id.extend([prod_id] * rev_total_cnt)\n",
    "\n",
    "    except:\n",
    "        # 에러난 애들 ㅠㅠ\n",
    "        product_id.append(prod_id) # 상품 번호 기록\n",
    "        reviews.append(None) # 리뷰, 만족도에는 None\n",
    "        ratings.append(None) \n",
    "        error_url.append(url) # 따로 url 저장\n",
    "        \n",
    "# 데이터 프레임으로 만들어서 csv 파일로 저장\n",
    "df = pd.DataFrame({'Review': reviews, 'Rating': ratings, 'Id': product_id})\n",
    "df.to_csv('Reviews_24722_end.csv', encoding = 'utf-8') # 어떤 부분인지 이름 바꿔주기"
   ]
  },
  {
   "cell_type": "code",
   "execution_count": 30,
   "metadata": {},
   "outputs": [
    {
     "data": {
      "text/plain": [
       "(46393, 46393, 46393)"
      ]
     },
     "execution_count": 30,
     "metadata": {},
     "output_type": "execute_result"
    }
   ],
   "source": [
    "len(reviews), len(product_id), len(ratings)"
   ]
  },
  {
   "cell_type": "code",
   "execution_count": 32,
   "metadata": {},
   "outputs": [
    {
     "data": {
      "text/html": [
       "<div>\n",
       "<style>\n",
       "    .dataframe thead tr:only-child th {\n",
       "        text-align: right;\n",
       "    }\n",
       "\n",
       "    .dataframe thead th {\n",
       "        text-align: left;\n",
       "    }\n",
       "\n",
       "    .dataframe tbody tr th {\n",
       "        vertical-align: top;\n",
       "    }\n",
       "</style>\n",
       "<table border=\"1\" class=\"dataframe\">\n",
       "  <thead>\n",
       "    <tr style=\"text-align: right;\">\n",
       "      <th></th>\n",
       "      <th>Id</th>\n",
       "      <th>Rating</th>\n",
       "      <th>Review</th>\n",
       "    </tr>\n",
       "  </thead>\n",
       "  <tbody>\n",
       "    <tr>\n",
       "      <th>0</th>\n",
       "      <td>2298929319</td>\n",
       "      <td>추천</td>\n",
       "      <td>컬러가 이뻐요^^ 세일상품 저렴하게 잘 샀어요^^ 생각보다 도톰하니 따뜻하고 좋은데...</td>\n",
       "    </tr>\n",
       "    <tr>\n",
       "      <th>1</th>\n",
       "      <td>2298929319</td>\n",
       "      <td>적극추천</td>\n",
       "      <td>겨울 따뜻하게 보냈어용 빨간색 사고 넘 맘에 들어서 아이보리색도 재구매 하게 되었어...</td>\n",
       "    </tr>\n",
       "    <tr>\n",
       "      <th>2</th>\n",
       "      <td>2298929319</td>\n",
       "      <td>적극추천</td>\n",
       "      <td>부들부들 이뻐요 니트야 원래 보풀일어나는법 이가격에 득템함 엘로우 넘 이뻐요 깔별로...</td>\n",
       "    </tr>\n",
       "    <tr>\n",
       "      <th>3</th>\n",
       "      <td>2298929319</td>\n",
       "      <td>추천</td>\n",
       "      <td>이뻐요. 보라색이너무이ㅃㄷ네요.보라색했는데너무마음에들고좋아요.좋아요.,그리고 좋아요...</td>\n",
       "    </tr>\n",
       "    <tr>\n",
       "      <th>4</th>\n",
       "      <td>2298929319</td>\n",
       "      <td>적극추천</td>\n",
       "      <td>밝은 아이보리 두툼하고 부들부들하고~ 행사가있어서 주문하게됐지만 돌아오는 가을부터 ...</td>\n",
       "    </tr>\n",
       "  </tbody>\n",
       "</table>\n",
       "</div>"
      ],
      "text/plain": [
       "           Id Rating                                             Review\n",
       "0  2298929319     추천  컬러가 이뻐요^^ 세일상품 저렴하게 잘 샀어요^^ 생각보다 도톰하니 따뜻하고 좋은데...\n",
       "1  2298929319   적극추천  겨울 따뜻하게 보냈어용 빨간색 사고 넘 맘에 들어서 아이보리색도 재구매 하게 되었어...\n",
       "2  2298929319   적극추천  부들부들 이뻐요 니트야 원래 보풀일어나는법 이가격에 득템함 엘로우 넘 이뻐요 깔별로...\n",
       "3  2298929319     추천  이뻐요. 보라색이너무이ㅃㄷ네요.보라색했는데너무마음에들고좋아요.좋아요.,그리고 좋아요...\n",
       "4  2298929319   적극추천  밝은 아이보리 두툼하고 부들부들하고~ 행사가있어서 주문하게됐지만 돌아오는 가을부터 ..."
      ]
     },
     "execution_count": 32,
     "metadata": {},
     "output_type": "execute_result"
    }
   ],
   "source": [
    "df.head()"
   ]
  },
  {
   "cell_type": "code",
   "execution_count": null,
   "metadata": {},
   "outputs": [],
   "source": []
  }
 ],
 "metadata": {
  "kernelspec": {
   "display_name": "Python [default]",
   "language": "python",
   "name": "python3"
  },
  "language_info": {
   "codemirror_mode": {
    "name": "ipython",
    "version": 3
   },
   "file_extension": ".py",
   "mimetype": "text/x-python",
   "name": "python",
   "nbconvert_exporter": "python",
   "pygments_lexer": "ipython3",
   "version": "3.6.1"
  }
 },
 "nbformat": 4,
 "nbformat_minor": 2
}
