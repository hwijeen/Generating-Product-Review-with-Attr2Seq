{
 "cells": [
  {
   "cell_type": "markdown",
   "metadata": {},
   "source": [
    "## TODO\n",
    "~~1. Batching!~~   \n",
    "    ~~-Encoder.Forward의 input 모양 어떻게 되지? / .view 인자 확인!~~\n",
    "2. Attention  \n",
    "3. Teacher Forcing  \n",
    "~~4. Parameter(things to be updated) 등록 잘 됐나 확인(= 그래프 잘 그린 건지 어케 확인하나?)~~\n",
    "5. Train / Dev 사전에 나누기\n",
    "6. Pretrained word vector을 쓸 수가 있나..?  \n",
    "** SOS, EOS, PAD token 관리 어디서?**   \n",
    "** INTO GPU: x batch, y batch, parameter On GPU**\n",
    "7. model save등등 train 뒷단 얘기  \n",
    "    -torch.save\n"
   ]
  },
  {
   "cell_type": "markdown",
   "metadata": {},
   "source": [
    "#### NOTE\n",
    "1. Decoder가 2 layer일때, initial hidden?  \n",
    "    - https://discuss.pytorch.org/t/understanding-output-of-lstm/12320/2\n",
    "    - hidden 의 dimension\n",
    "2. embedding 거친 후엔 batch_size x seq_len x embedding_dim 임!\n",
    "    - embedding input은 batch_size x seq_len\n",
    "2. LSTM의 batch_first\n",
    "3. LSTM input의 dimension\n",
    "4. NLLLoss()의 dimension"
   ]
  },
  {
   "cell_type": "code",
   "execution_count": 71,
   "metadata": {},
   "outputs": [],
   "source": [
    "import torch\n",
    "import torch.nn as nn\n",
    "import torch.nn.functional as F\n",
    "from torch import optim\n",
    "from tqdm import tqdm_notebook\n",
    "\n",
    "from data_loader import get_dataset_loader"
   ]
  },
  {
   "cell_type": "code",
   "execution_count": 72,
   "metadata": {},
   "outputs": [],
   "source": [
    "class Config():        \n",
    "    \n",
    "    # Data \n",
    "    csv_file = 'data/complete_df.csv'\n",
    "    vocab_file = 'crawling/Reviews_csv/vocab.txt'\n",
    "    tag_vocab = 'crawling/tags_txt/tag_vocab.txt'\n",
    "    rating_dict = {'불만':0, '추천안함':0,\n",
    "                    '보통':1,\n",
    "                    '추천':2, '만족':2,\n",
    "                    '적극추천':3}\n",
    "    category = 'subcat'    # 'subcat' or 'category'\n",
    "    padding_idx = 0\n",
    "    \n",
    "    def add_info(self, rating_size, category_size, tag_size, output_size):\n",
    "        \"\"\"data loading이후에 결정되는 것들\"\"\"\n",
    "        self.rating_size = rating_size\n",
    "        self.category_size = category_size\n",
    "        self.tag_size = tag_size\n",
    "        self.output_size = output_size\n",
    "        \n",
    "        \n",
    "    # Encoder\n",
    "    # pretrained = False \n",
    "    attribute_size = 64\n",
    "    \n",
    "    # Decoder\n",
    "    hidden_size = 512 \n",
    "    num_layers = 2\n",
    "    \n",
    "    # training\n",
    "    batch_size = 30\n",
    "    dropout = 0.2\n",
    "    num_steps = 100\n",
    "    print_every = 1"
   ]
  },
  {
   "cell_type": "code",
   "execution_count": 73,
   "metadata": {},
   "outputs": [],
   "source": [
    "class Encoder(nn.Module):\n",
    "    def __init__(self, config):        \n",
    "        super().__init__()\n",
    "        self.config = config\n",
    "        \n",
    "        self.emb_rating = nn.Embedding(self.config.rating_size, self.config.attribute_size)   \n",
    "        self.emb_category = nn.Embedding(self.config.category_size, self.config.attribute_size)\n",
    "        self.emb_tag = nn.Embedding(self.config.tag_size, self.config.attribute_size,\n",
    "                                   padding_idx=self.config.padding_idx)        \n",
    "        self.out = nn.Linear(self.config.attribute_size * 3, self.config.hidden_size*self.config.num_layers)\n",
    "        self.init_hidden()\n",
    "        \n",
    "    def forward(self, rating, category, tag):\n",
    "        \"\"\"\n",
    "        Inputs:\n",
    "            rating: TENSOR of shape (batch_size, 1)\n",
    "            category: TENSOR of shape (batch_size, 1)\n",
    "            tag : 1) TENSOR of shape (batch_size, tag_MAXLEN)\n",
    "        Returns:\n",
    "            concatenated attr for attention, encoder_output\n",
    "        \"\"\"\n",
    "        \n",
    "        assert len(rating) == len(category) == len(tag)\n",
    "        attr_rating = self.emb_rating(rating)    \n",
    "        attr_category = self.emb_category(category)\n",
    "        tag_len = self.get_tag_len(tag)    \n",
    "        attr_tag = torch.sum(self.emb_tag(tag), 1, keepdim=True) / tag_len    # CBOW\n",
    "        \n",
    "        attr = torch.cat((attr_rating, attr_category, attr_tag), 2)\n",
    "        out = self.out(attr)\n",
    "        encoder_output = F.tanh(out)\n",
    "        return attr, encoder_output\n",
    "    \n",
    "    def get_tag_len(self, tag): \n",
    "        \"\"\"padding 제외한 token 개수\"\"\"\n",
    "        return torch.sum(tag!=self.config.padding_idx, 1).unsqueeze(1).unsqueeze(1).type(torch.float)\n",
    "        \n",
    "    def init_hidden(self):\n",
    "        for param in self.parameters():\n",
    "            nn.init.uniform_(param, -0.08, 0.08)"
   ]
  },
  {
   "cell_type": "code",
   "execution_count": 74,
   "metadata": {},
   "outputs": [],
   "source": [
    "class Decoder(nn.Module):\n",
    "    def __init__(self, config):\n",
    "        super().__init__()\n",
    "        self.config = config\n",
    "        \n",
    "        # TODO: if self.config.pretrained = True\n",
    "        self.embedding = nn.Embedding(self.config.output_size, self.config.hidden_size)\n",
    "        self.lstm = nn.LSTM(self.config.hidden_size, self.config.hidden_size, \\\n",
    "                            num_layers=self.config.num_layers, dropout=self.config.dropout, \\\n",
    "                           batch_first=True)\n",
    "        self.out = nn.Linear(self.config.hidden_size, self.config.output_size)\n",
    "        \n",
    "    def forward(self, input_token, hidden):\n",
    "        \"\"\"\n",
    "        Inputs:\n",
    "            input_token: TENSOR of shape (batch_size, 1)\n",
    "            hidden: from last hidden of encoder\n",
    "        Returns:\n",
    "        \"\"\"\n",
    "        # 가운데 1이니까 unroll방식으로만!\n",
    "        output = self.embedding(input_token)\n",
    "        # LSTM의 hidden은 (hx, cx)\n",
    "        output, hidden = self.lstm(output, hidden)\n",
    "        output = self.out(output)\n",
    "        output = F.log_softmax(output, dim=2)\n",
    "        return output, hidden\n",
    "\n",
    "    def initHidden(self):\n",
    "        pass"
   ]
  },
  {
   "cell_type": "code",
   "execution_count": 75,
   "metadata": {},
   "outputs": [],
   "source": [
    "def splitHidden(encoder_output, config):\n",
    "    h_0 = encoder_output.view(config.num_layers, encoder_output.size(0), \\\n",
    "                              config.hidden_size)\n",
    "    c_0 = torch.zeros_like(h_0) \n",
    "    return (h_0, c_0)\n",
    "\n",
    "def train(encoder, decoder, dataloader, loss_fn, optimizer, config, verbose=False):\n",
    "    encoder.train()\n",
    "    decoder.train()\n",
    "    data_iter = iter(dataloader)\n",
    "    \n",
    "    for t in tqdm_notebook(range(config.num_steps)):\n",
    "        optimizer.zero_grad()\n",
    "        rating_tensor, category_tensor, tag_tensor, target_tensor = next(data_iter)\n",
    "        target_length = target_tensor.size(-1)\n",
    "        \n",
    "        attr, encoder_output = encoder(rating_tensor, category_tensor, tag_tensor)\n",
    "        decoder_hidden = splitHidden(encoder_output, encoder.config)        \n",
    "        \n",
    "        decoder_input = torch.zeros((config.batch_size,1)).long()    # SOS token\n",
    "        decoder_outputs = []\n",
    "        for idx in range(target_length): \n",
    "            decoder_output, decoder_hidden = decoder(decoder_input, decoder_hidden)            \n",
    "            topv, topi = decoder_output.topk(1)\n",
    "            decoder_input = topi.detach().view(config.batch_size, 1)\n",
    "            decoder_outputs.append(decoder_output)\n",
    "\n",
    "        # 이 아래 두 개 shape 조정은 loss function 요구 사항 맞추기 위함!\n",
    "        decoder_outputs = torch.cat(decoder_outputs, 1).view(config.batch_size*target_length, -1)\n",
    "        target_tensor = target_tensor.view(-1)\n",
    "        loss = loss_fn(decoder_outputs, target_tensor) \n",
    "        num_actual_token = torch.sum(target_tensor != encoder.config.padding_idx).item()\n",
    "        loss /= num_actual_token\n",
    "        \n",
    "        if verbose==True and t % config.print_every == 0:\n",
    "            print(\"loss at %d step: %f\" % (t, loss))\n",
    "            \n",
    "        loss.backward()\n",
    "        optimizer.step()     "
   ]
  },
  {
   "cell_type": "markdown",
   "metadata": {},
   "source": [
    "### Get data & set config"
   ]
  },
  {
   "cell_type": "code",
   "execution_count": 76,
   "metadata": {},
   "outputs": [],
   "source": [
    "config = Config()\n",
    "dataset, dataloader = get_dataset_loader(config.csv_file, config.vocab_file, config.tag_vocab, config.rating_dict, \\\n",
    "                        config.category, config.batch_size)\n",
    "\n",
    "rating_size = len(dataset.rating2idx)\n",
    "category_size = len(dataset.category2idx)\n",
    "tag_size = len(dataset.tag2idx)\n",
    "vocab_size = len(dataset.word2idx)\n",
    "config.add_info(rating_size, category_size, tag_size, vocab_size)"
   ]
  },
  {
   "cell_type": "markdown",
   "metadata": {},
   "source": [
    "### Instantiate model and start training"
   ]
  },
  {
   "cell_type": "code",
   "execution_count": null,
   "metadata": {},
   "outputs": [
    {
     "data": {
      "application/vnd.jupyter.widget-view+json": {
       "model_id": "de035e223ee64f63a7862d4ce2f2c58e",
       "version_major": 2,
       "version_minor": 0
      },
      "text/plain": [
       "HBox(children=(IntProgress(value=0), HTML(value='')))"
      ]
     },
     "metadata": {},
     "output_type": "display_data"
    },
    {
     "name": "stdout",
     "output_type": "stream",
     "text": [
      "loss at 0 step: 10.103978\n",
      "loss at 1 step: 10.082250\n",
      "loss at 2 step: 10.058656\n",
      "loss at 3 step: 10.012200\n",
      "loss at 4 step: 9.802145\n",
      "loss at 5 step: 9.612991\n",
      "loss at 6 step: 9.367873\n",
      "loss at 7 step: 9.009171\n",
      "loss at 8 step: 9.006889\n",
      "loss at 9 step: 9.006299\n",
      "loss at 10 step: 8.575359\n",
      "loss at 11 step: 8.614898\n",
      "loss at 12 step: 8.040228\n",
      "loss at 13 step: 8.029733\n",
      "loss at 14 step: 8.648287\n",
      "loss at 15 step: 8.455800\n",
      "loss at 16 step: 8.504720\n",
      "loss at 17 step: 8.548656\n",
      "loss at 18 step: 8.236914\n",
      "loss at 19 step: 8.195976\n",
      "loss at 20 step: 8.577085\n",
      "loss at 21 step: 8.271413\n",
      "loss at 22 step: 8.236559\n",
      "loss at 23 step: 8.435886\n"
     ]
    }
   ],
   "source": [
    "encoder = Encoder(config)\n",
    "decoder = Decoder(config)\n",
    "\n",
    "params = list(encoder.parameters()) + list(decoder.parameters())\n",
    "loss_fn = nn.NLLLoss(size_average=False, ignore_index=config.padding_idx)\n",
    "optimizer = optim.Adam(params, lr=0.001)\n",
    "\n",
    "train(encoder, decoder, dataloader, loss_fn, optimizer, config, verbose=True)"
   ]
  },
  {
   "cell_type": "code",
   "execution_count": null,
   "metadata": {},
   "outputs": [],
   "source": []
  }
 ],
 "metadata": {
  "kernelspec": {
   "display_name": "Python [conda env:hwijeen_3.6]",
   "language": "python",
   "name": "conda-env-hwijeen_3.6-py"
  },
  "language_info": {
   "codemirror_mode": {
    "name": "ipython",
    "version": 3
   },
   "file_extension": ".py",
   "mimetype": "text/x-python",
   "name": "python",
   "nbconvert_exporter": "python",
   "pygments_lexer": "ipython3",
   "version": "3.6.4"
  }
 },
 "nbformat": 4,
 "nbformat_minor": 2
}
