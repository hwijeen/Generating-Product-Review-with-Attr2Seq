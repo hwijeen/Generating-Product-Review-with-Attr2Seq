{
 "cells": [
  {
   "cell_type": "markdown",
   "metadata": {},
   "source": [
    "## TODO\n",
    "~~1. Batching!~~   \n",
    "    ~~-Encoder.Forward의 input 모양 어떻게 되지? / .view 인자 확인!~~\n",
    "~~2. Attention~~\n",
    "3. Teacher Forcing  \n",
    "~~4. Parameter(things to be updated) 등록 잘 됐나 확인(= 그래프 잘 그린 건지 어케 확인하나?)~~\n",
    "5. Train / Dev 사전에 나누기\n",
    "6. Pretrained word vector을 쓸 수가 있나..?  \n",
    "~~SOS, EOS, PAD token 관리 어디서?~~  \n",
    "** INTO GPU: x batch, y batch, parameter On GPU**\n",
    "7. model save등등 train 뒷단 얘기  \n",
    "    -torch.save\n"
   ]
  },
  {
   "cell_type": "markdown",
   "metadata": {},
   "source": [
    "#### NOTE\n",
    "1. Decoder가 2 layer일때, initial hidden?  \n",
    "    - https://discuss.pytorch.org/t/understanding-output-of-lstm/12320/2\n",
    "    - hidden 의 dimension\n",
    "2. embedding 거친 후엔 batch_size x seq_len x embedding_dim 임!\n",
    "    - embedding input은 batch_size x seq_len\n",
    "2. LSTM의 batch_first\n",
    "3. LSTM input의 dimension\n",
    "4. NLLLoss()의 dimension"
   ]
  },
  {
   "cell_type": "code",
   "execution_count": 163,
   "metadata": {},
   "outputs": [],
   "source": [
    "import torch\n",
    "import torch.nn as nn\n",
    "import torch.nn.functional as F\n",
    "from torch import optim\n",
    "from tqdm import tqdm_notebook\n",
    "\n",
    "from data_loader import get_dataset_loader"
   ]
  },
  {
   "cell_type": "code",
   "execution_count": 164,
   "metadata": {},
   "outputs": [],
   "source": [
    "class Config():        \n",
    "    \n",
    "    # Data \n",
    "    csv_file = 'data/complete_df.csv'\n",
    "    vocab_file = 'crawling/Reviews_csv/vocab.txt'\n",
    "    tag_vocab = 'crawling/tags_txt/tag_vocab.txt'\n",
    "    rating_dict = {'불만':0, '추천안함':0,\n",
    "                    '보통':1,\n",
    "                    '추천':2, '만족':2,\n",
    "                    '적극추천':3}\n",
    "    category = 'subcat'    # 'subcat' or 'category'\n",
    "        \n",
    "    def add_dataset_info(self, dataset):\n",
    "        \"\"\"data loading이후에 결정되는 것들\"\"\"\n",
    "        self.rating_size = len(dataset.rating2idx)\n",
    "        self.category_size = len(dataset.category2idx)\n",
    "        self.tag_size = len(dataset.tag2idx)\n",
    "        self.output_size = len(dataset.word2idx)\n",
    "        self.padding_idx = dataset.word2idx['PAD']  # 0\n",
    "        self.SOS_token = dataset.word2idx['SOS']    # 1\n",
    "        self.EOS_token = dataset.word2idx['EOS']    # 2\n",
    "    # Encoder\n",
    "    # pretrained = False \n",
    "    attribute_size = 64\n",
    "    \n",
    "    # Decoder\n",
    "    hidden_size = 512 \n",
    "    num_layers = 2\n",
    "    num_attr = 3 # for attention!\n",
    "    \n",
    "    # training\n",
    "    batch_size = 2\n",
    "    dropout = 0.2\n",
    "    num_steps = 100\n",
    "    print_every = 1"
   ]
  },
  {
   "cell_type": "code",
   "execution_count": 165,
   "metadata": {},
   "outputs": [],
   "source": [
    "class Encoder(nn.Module):\n",
    "    def __init__(self, config):        \n",
    "        super().__init__()\n",
    "        self.config = config\n",
    "        \n",
    "        self.emb_rating = nn.Embedding(self.config.rating_size, self.config.attribute_size)   \n",
    "        self.emb_category = nn.Embedding(self.config.category_size, self.config.attribute_size)\n",
    "        self.emb_tag = nn.Embedding(self.config.tag_size, self.config.attribute_size,\n",
    "                                   padding_idx=self.config.padding_idx)        \n",
    "        self.out = nn.Linear(self.config.attribute_size * 3, self.config.hidden_size*self.config.num_layers)\n",
    "        self.init_hidden()\n",
    "        \n",
    "    def forward(self, rating, category, tag):\n",
    "        \"\"\"\n",
    "        Inputs:\n",
    "            rating: TENSOR of shape (batch_size, 1)\n",
    "            category: TENSOR of shape (batch_size, 1)\n",
    "            tag : 1) TENSOR of shape (batch_size, tag_MAXLEN)\n",
    "        Returns:\n",
    "            concatenated attr for attention, encoder_output\n",
    "        \"\"\"\n",
    "        \n",
    "        assert len(rating) == len(category) == len(tag)\n",
    "        attr_rating = self.emb_rating(rating)        # N x 1 x attr_size\n",
    "        attr_category = self.emb_category(category)  # N x 1 x attr_size  \n",
    "        tag_len = self.get_tag_len(tag)              \n",
    "        attr_tag = torch.sum(self.emb_tag(tag), 1, keepdim=True) / tag_len    # CBOW\n",
    "                                                     # N x max_tag_len x attr_size\n",
    "                                                     # N x 1 x attr_size*3\n",
    "        attr = torch.cat((attr_rating, attr_category, attr_tag), 2)\n",
    "        out = self.out(attr)    # N x 1 x hidden_size * num_layers(decoder)\n",
    "        attr = attr.view(self.config.batch_size, self.config.num_attr, -1)  # N x 3 x 64\n",
    "        encoder_output = F.tanh(out)\n",
    "        return attr, encoder_output\n",
    "    \n",
    "    def get_tag_len(self, tag): \n",
    "        \"\"\"padding 제외한 token 개수\"\"\"\n",
    "        return torch.sum(tag!=self.config.padding_idx, 1).unsqueeze(1).unsqueeze(1).type(torch.float)\n",
    "        \n",
    "    def init_hidden(self):\n",
    "        for param in self.parameters():\n",
    "            nn.init.uniform_(param, -0.08, 0.08)"
   ]
  },
  {
   "cell_type": "code",
   "execution_count": 166,
   "metadata": {},
   "outputs": [],
   "source": [
    "class Decoder(nn.Module):\n",
    "    def __init__(self, config):\n",
    "        super().__init__()\n",
    "        self.config = config\n",
    "        \n",
    "        self.embedding = nn.Embedding(self.config.output_size, self.config.hidden_size)\n",
    "        self.lstm = nn.LSTM(self.config.hidden_size, self.config.hidden_size, \\\n",
    "                            num_layers=self.config.num_layers, dropout=self.config.dropout, \\\n",
    "                           batch_first=True)\n",
    "        self.out = nn.Linear(self.config.hidden_size, self.config.output_size)\n",
    "        \n",
    "    def forward(self, input_token, hidden):\n",
    "        \"\"\"\n",
    "        Inputs:\n",
    "            input_token: TENSOR of shape (batch_size, 1)\n",
    "            hidden: from last hidden of encoder (h_0, c_0) batch first\n",
    "                        h_0 - num_layers * num_direction X batch X hidden_size\n",
    "                        c_0 - num_layers * num_direction X batch X hidden_size\n",
    "        Returns:\n",
    "        \"\"\"\n",
    "        # 가운데 1이니까 unroll방식으로만!  - 바꿀 수 있나?!\n",
    "        output = self.embedding(input_token)          # N x 1(seq_len) x hidden_size\n",
    "        # LSTM의 hidden은 (hx, cx)\n",
    "        output, hidden = self.lstm(output, hidden)    # N x 1(seq_len) x hidden_size * num_dir\n",
    "                                                      # num_layers * num_direction x N x hidden_size\n",
    "        output = self.out(output)    # N x 1(seq_len) x output_size\n",
    "        output = F.log_softmax(output, dim=2)\n",
    "        return output, hidden\n",
    "\n",
    "    def initHidden(self):\n",
    "        pass"
   ]
  },
  {
   "cell_type": "code",
   "execution_count": 167,
   "metadata": {},
   "outputs": [],
   "source": [
    "class Attention(nn.Module):\n",
    "    def __init__(self, config):\n",
    "        super().__init__()\n",
    "        self.config = config\n",
    "        self.attn_score = nn.Linear(self.config.hidden_size + self.config.attribute_size, 1)\n",
    "        \n",
    "    def forward(self, last_hidden, attrs): \n",
    "        # last_hidden : torch.Size([num_layers*num_direction, seq_len, hidden_dim])\n",
    "        # attrs : torch.Size([batch_size, num_attr, attr_size])\n",
    "        attn_energies = torch.zeros((self.config.batch_size, 1, self.config.num_attr), requires_grad=True)\n",
    "        # B x 1(seq_len인가?) x 3\n",
    "        for i in range(self.config.num_attr):\n",
    "            attn_energies[:,:,i] = self.score(last_hidden.squeeze(), attrs[:,i,:])\n",
    "        return F.softmax(attn_energies, dim=-1)#.unsqueeze(0).unsqueeze(0) # 1,1,3\n",
    "        \n",
    "    def score(self, last_hidden, attr):  \n",
    "        energy = self.attn_score(torch.cat((last_hidden, attr.squeeze()), -1))\n",
    "        energy = F.tanh(energy)    # (batch, 1)\n",
    "        return energy"
   ]
  },
  {
   "cell_type": "code",
   "execution_count": 168,
   "metadata": {},
   "outputs": [],
   "source": [
    "class AttnDecoder(nn.Module):\n",
    "    def __init__(self, config):\n",
    "        super().__init__()\n",
    "        self.config = config\n",
    "        \n",
    "        self.embedding = nn.Embedding(self.config.output_size, self.config.hidden_size)\n",
    "        self.lstm = nn.LSTM(self.config.hidden_size, self.config.hidden_size, \\\n",
    "                            num_layers=self.config.num_layers, dropout=self.config.dropout, \\\n",
    "                           batch_first=True)\n",
    "        self.attn_out = nn.Linear(self.config.hidden_size + self.config.attribute_size, \n",
    "                                  self.config.hidden_size)\n",
    "        self.out = nn.Linear(self.config.hidden_size, self.config.output_size)\n",
    "\n",
    "        self.attn = Attention(self.config)\n",
    "            \n",
    "    def forward(self, input_token, hidden, attrs):\n",
    "        \n",
    "        word_embedded = self.embedding(input_token)\n",
    "        output, hidden = self.lstm(word_embedded, hidden)\n",
    "        \n",
    "        attn_weights = self.attn(output, attrs) \n",
    "\n",
    "        attrs = attrs.view(self.config.batch_size, self.config.num_attr, -1)\n",
    "        context = attn_weights.bmm(attrs)\n",
    "        \n",
    "        output = F.tanh(self.attn_out(torch.cat((output, context), -1)))\n",
    "        output = F.log_softmax(self.out(output), dim=-1)\n",
    "        \n",
    "        return output, hidden, attn_weights"
   ]
  },
  {
   "cell_type": "code",
   "execution_count": 169,
   "metadata": {
    "scrolled": true
   },
   "outputs": [],
   "source": [
    "# def splitHidden(encoder_output, config):\n",
    "#                                                 # encoder_output.size(0) = batch_size\n",
    "#     h_0 = encoder_output.view(config.num_layers, encoder_output.size(0), \\\n",
    "#                               config.hidden_size)\n",
    "#     c_0 = torch.zeros_like(h_0) \n",
    "#     return (h_0, c_0)\n",
    "\n",
    "# config = Config()\n",
    "# dataset, dataloader = get_dataset_loader(config.csv_file, config.vocab_file, config.tag_vocab, config.rating_dict, \\\n",
    "#                         config.category, config.batch_size)\n",
    "# config.add_dataset_info(dataset)\n",
    "\n",
    "# dataiter = iter(dataloader)\n",
    "# rating, category, tag, target = next(dataiter)\n",
    "\n",
    "# encoder = Encoder(config)\n",
    "# attndecoder = AttnDecoder(config)\n",
    "# attrs, encoder_output = encoder(rating, category, tag)\n",
    "# hidden = splitHidden(encoder_output, encoder.config)\n",
    "# decoder_input = torch.zeros((config.batch_size,1)).long()\n",
    "# output, context, hidden, attn_weights = attndecoder(decoder_input, hidden, attrs)\n",
    "\n",
    "# print(output.size())\n",
    "# print(context.size())\n",
    "# print(\"*\"*10)\n",
    "# print(hidden[0].size())    # hidden 은 batch first랑 상관 없음!!\n",
    "# print(hidden[1].size())\n",
    "# print(\"*\"*10)\n",
    "# print(attn_weights.size())"
   ]
  },
  {
   "cell_type": "code",
   "execution_count": 170,
   "metadata": {},
   "outputs": [],
   "source": [
    "def train(encoder, decoder, dataloader, loss_fn, optimizer, config, verbose=False):\n",
    "    encoder.train()\n",
    "    decoder.train()\n",
    "    data_iter = iter(dataloader)\n",
    "    \n",
    "    def splitHidden(encoder_output):\n",
    "        h_0 = encoder_output.view(config.num_layers, config.batch_size, \\\n",
    "                              config.hidden_size)\n",
    "        c_0 = torch.zeros_like(h_0) \n",
    "        return (h_0, c_0)\n",
    "    \n",
    "    for t in tqdm_notebook(range(config.num_steps)):\n",
    "        optimizer.zero_grad()\n",
    "        rating_tensor, category_tensor, tag_tensor, target_tensor = next(data_iter)\n",
    "        target_length = target_tensor.size(-1)\n",
    "        \n",
    "        attrs, encoder_output = encoder(rating_tensor, category_tensor, tag_tensor)\n",
    "        decoder_hidden = splitHidden(encoder_output)        \n",
    "        \n",
    "        decoder_input = config.SOS_token * torch.ones((config.batch_size,1)).long() \n",
    "        decoder_outputs = []\n",
    "        for idx in range(target_length): \n",
    "            decoder_output, decoder_hidden, attention_weights = \\\n",
    "                                decoder(decoder_input, decoder_hidden, attrs)            \n",
    "            topv, topi = decoder_output.topk(1)\n",
    "            decoder_input = topi.detach().view(config.batch_size, 1)\n",
    "            decoder_outputs.append(decoder_output)\n",
    "\n",
    "        # 이 아래 두 개 shape 조정은 loss function 요구 사항 맞추기 위함!\n",
    "        decoder_outputs = torch.cat(decoder_outputs, 1).view(config.batch_size*target_length, -1)\n",
    "        target_tensor = target_tensor.view(-1)\n",
    "        loss = loss_fn(decoder_outputs, target_tensor) \n",
    "        num_actual_token = torch.sum(target_tensor != encoder.config.padding_idx).item()\n",
    "        loss /= num_actual_token\n",
    "        \n",
    "        if verbose==True and t % config.print_every == 0:\n",
    "            print(\"loss at %d step: %f\" % (t, loss))\n",
    "            \n",
    "        loss.backward()\n",
    "        optimizer.step()     "
   ]
  },
  {
   "cell_type": "markdown",
   "metadata": {},
   "source": [
    "### Get data & set config"
   ]
  },
  {
   "cell_type": "code",
   "execution_count": 171,
   "metadata": {},
   "outputs": [],
   "source": [
    "config = Config()\n",
    "dataset, dataloader = get_dataset_loader(config.csv_file, config.vocab_file, config.tag_vocab, config.rating_dict, \\\n",
    "                        config.category, config.batch_size)\n",
    "config.add_dataset_info(dataset)"
   ]
  },
  {
   "cell_type": "markdown",
   "metadata": {},
   "source": [
    "### Instantiate model and start training"
   ]
  },
  {
   "cell_type": "code",
   "execution_count": 172,
   "metadata": {},
   "outputs": [
    {
     "data": {
      "application/vnd.jupyter.widget-view+json": {
       "model_id": "94d8bbea685e4c50a8d391507b3aa8c8",
       "version_major": 2,
       "version_minor": 0
      },
      "text/plain": [
       "HBox(children=(IntProgress(value=0), HTML(value='')))"
      ]
     },
     "metadata": {},
     "output_type": "display_data"
    },
    {
     "name": "stdout",
     "output_type": "stream",
     "text": [
      "loss at 0 step: 10.094813\n",
      "\n"
     ]
    },
    {
     "ename": "RuntimeError",
     "evalue": "leaf variable has been moved into the graph interior",
     "output_type": "error",
     "traceback": [
      "\u001b[0;31m---------------------------------------------------------------------------\u001b[0m",
      "\u001b[0;31mRuntimeError\u001b[0m                              Traceback (most recent call last)",
      "\u001b[0;32m<ipython-input-172-43c647e2799a>\u001b[0m in \u001b[0;36m<module>\u001b[0;34m()\u001b[0m\n\u001b[1;32m      6\u001b[0m \u001b[0moptimizer\u001b[0m \u001b[0;34m=\u001b[0m \u001b[0moptim\u001b[0m\u001b[0;34m.\u001b[0m\u001b[0mAdam\u001b[0m\u001b[0;34m(\u001b[0m\u001b[0mparams\u001b[0m\u001b[0;34m,\u001b[0m \u001b[0mlr\u001b[0m\u001b[0;34m=\u001b[0m\u001b[0;36m0.001\u001b[0m\u001b[0;34m)\u001b[0m\u001b[0;34m\u001b[0m\u001b[0m\n\u001b[1;32m      7\u001b[0m \u001b[0;34m\u001b[0m\u001b[0m\n\u001b[0;32m----> 8\u001b[0;31m \u001b[0mtrain\u001b[0m\u001b[0;34m(\u001b[0m\u001b[0mencoder\u001b[0m\u001b[0;34m,\u001b[0m \u001b[0mdecoder\u001b[0m\u001b[0;34m,\u001b[0m \u001b[0mdataloader\u001b[0m\u001b[0;34m,\u001b[0m \u001b[0mloss_fn\u001b[0m\u001b[0;34m,\u001b[0m \u001b[0moptimizer\u001b[0m\u001b[0;34m,\u001b[0m \u001b[0mconfig\u001b[0m\u001b[0;34m,\u001b[0m \u001b[0mverbose\u001b[0m\u001b[0;34m=\u001b[0m\u001b[0;32mTrue\u001b[0m\u001b[0;34m)\u001b[0m\u001b[0;34m\u001b[0m\u001b[0m\n\u001b[0m",
      "\u001b[0;32m<ipython-input-170-ee691412083c>\u001b[0m in \u001b[0;36mtrain\u001b[0;34m(encoder, decoder, dataloader, loss_fn, optimizer, config, verbose)\u001b[0m\n\u001b[1;32m     35\u001b[0m             \u001b[0mprint\u001b[0m\u001b[0;34m(\u001b[0m\u001b[0;34m\"loss at %d step: %f\"\u001b[0m \u001b[0;34m%\u001b[0m \u001b[0;34m(\u001b[0m\u001b[0mt\u001b[0m\u001b[0;34m,\u001b[0m \u001b[0mloss\u001b[0m\u001b[0;34m)\u001b[0m\u001b[0;34m)\u001b[0m\u001b[0;34m\u001b[0m\u001b[0m\n\u001b[1;32m     36\u001b[0m \u001b[0;34m\u001b[0m\u001b[0m\n\u001b[0;32m---> 37\u001b[0;31m         \u001b[0mloss\u001b[0m\u001b[0;34m.\u001b[0m\u001b[0mbackward\u001b[0m\u001b[0;34m(\u001b[0m\u001b[0;34m)\u001b[0m\u001b[0;34m\u001b[0m\u001b[0m\n\u001b[0m\u001b[1;32m     38\u001b[0m         \u001b[0moptimizer\u001b[0m\u001b[0;34m.\u001b[0m\u001b[0mstep\u001b[0m\u001b[0;34m(\u001b[0m\u001b[0;34m)\u001b[0m\u001b[0;34m\u001b[0m\u001b[0m\n",
      "\u001b[0;32m~/anaconda3/envs/hwijeen_3.6/lib/python3.6/site-packages/torch/tensor.py\u001b[0m in \u001b[0;36mbackward\u001b[0;34m(self, gradient, retain_graph, create_graph)\u001b[0m\n\u001b[1;32m     91\u001b[0m                 \u001b[0mproducts\u001b[0m\u001b[0;34m.\u001b[0m \u001b[0mDefaults\u001b[0m \u001b[0mto\u001b[0m\u001b[0;31m \u001b[0m\u001b[0;31m`\u001b[0m\u001b[0;31m`\u001b[0m\u001b[0;32mFalse\u001b[0m\u001b[0;31m`\u001b[0m\u001b[0;31m`\u001b[0m\u001b[0;34m.\u001b[0m\u001b[0;34m\u001b[0m\u001b[0m\n\u001b[1;32m     92\u001b[0m         \"\"\"\n\u001b[0;32m---> 93\u001b[0;31m         \u001b[0mtorch\u001b[0m\u001b[0;34m.\u001b[0m\u001b[0mautograd\u001b[0m\u001b[0;34m.\u001b[0m\u001b[0mbackward\u001b[0m\u001b[0;34m(\u001b[0m\u001b[0mself\u001b[0m\u001b[0;34m,\u001b[0m \u001b[0mgradient\u001b[0m\u001b[0;34m,\u001b[0m \u001b[0mretain_graph\u001b[0m\u001b[0;34m,\u001b[0m \u001b[0mcreate_graph\u001b[0m\u001b[0;34m)\u001b[0m\u001b[0;34m\u001b[0m\u001b[0m\n\u001b[0m\u001b[1;32m     94\u001b[0m \u001b[0;34m\u001b[0m\u001b[0m\n\u001b[1;32m     95\u001b[0m     \u001b[0;32mdef\u001b[0m \u001b[0mregister_hook\u001b[0m\u001b[0;34m(\u001b[0m\u001b[0mself\u001b[0m\u001b[0;34m,\u001b[0m \u001b[0mhook\u001b[0m\u001b[0;34m)\u001b[0m\u001b[0;34m:\u001b[0m\u001b[0;34m\u001b[0m\u001b[0m\n",
      "\u001b[0;32m~/anaconda3/envs/hwijeen_3.6/lib/python3.6/site-packages/torch/autograd/__init__.py\u001b[0m in \u001b[0;36mbackward\u001b[0;34m(tensors, grad_tensors, retain_graph, create_graph, grad_variables)\u001b[0m\n\u001b[1;32m     87\u001b[0m     Variable._execution_engine.run_backward(\n\u001b[1;32m     88\u001b[0m         \u001b[0mtensors\u001b[0m\u001b[0;34m,\u001b[0m \u001b[0mgrad_tensors\u001b[0m\u001b[0;34m,\u001b[0m \u001b[0mretain_graph\u001b[0m\u001b[0;34m,\u001b[0m \u001b[0mcreate_graph\u001b[0m\u001b[0;34m,\u001b[0m\u001b[0;34m\u001b[0m\u001b[0m\n\u001b[0;32m---> 89\u001b[0;31m         allow_unreachable=True)  # allow_unreachable flag\n\u001b[0m\u001b[1;32m     90\u001b[0m \u001b[0;34m\u001b[0m\u001b[0m\n\u001b[1;32m     91\u001b[0m \u001b[0;34m\u001b[0m\u001b[0m\n",
      "\u001b[0;31mRuntimeError\u001b[0m: leaf variable has been moved into the graph interior"
     ]
    }
   ],
   "source": [
    "encoder = Encoder(config)\n",
    "decoder = AttnDecoder(config)\n",
    "\n",
    "params = list(encoder.parameters()) + list(decoder.parameters())\n",
    "loss_fn = nn.NLLLoss(size_average=False, ignore_index=config.padding_idx)\n",
    "optimizer = optim.Adam(params, lr=0.001)\n",
    "\n",
    "train(encoder, decoder, dataloader, loss_fn, optimizer, config, verbose=True)"
   ]
  },
  {
   "cell_type": "code",
   "execution_count": null,
   "metadata": {},
   "outputs": [],
   "source": []
  }
 ],
 "metadata": {
  "kernelspec": {
   "display_name": "Python [conda env:hwijeen_3.6]",
   "language": "python",
   "name": "conda-env-hwijeen_3.6-py"
  },
  "language_info": {
   "codemirror_mode": {
    "name": "ipython",
    "version": 3
   },
   "file_extension": ".py",
   "mimetype": "text/x-python",
   "name": "python",
   "nbconvert_exporter": "python",
   "pygments_lexer": "ipython3",
   "version": "3.6.4"
  }
 },
 "nbformat": 4,
 "nbformat_minor": 2
}
