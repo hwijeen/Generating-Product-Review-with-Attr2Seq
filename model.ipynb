{
 "cells": [
  {
   "cell_type": "markdown",
   "metadata": {},
   "source": [
    "## TODO\n",
    "~~1. Batching!~~   \n",
    "    ~~-Encoder.Forward의 input 모양 어떻게 되지? / .view 인자 확인!~~\n",
    "2. Attention  \n",
    "3. Teacher Forcing  \n",
    "4. Parameter(things to be updated) 등록 잘 됐나 확인(= 그래프 잘 그린 건지 어케 확인하나?)\n",
    "5. Train / Dev 사전에 나누기\n",
    "6. Pretrained word vector을 쓸 수가 있나..?  \n",
    "** SOS, EOS, PAD token 관리 어디서?**   \n",
    "** INTO GPU: x batch, y batch, parameter On GPU**\n",
    "7. model save등등 train 뒷단 얘기  \n",
    "    -torch.save\n"
   ]
  },
  {
   "cell_type": "markdown",
   "metadata": {},
   "source": [
    "#### NOTE\n",
    "1. Decoder가 2 layer일때, initial hidden?  \n",
    "    - https://discuss.pytorch.org/t/understanding-output-of-lstm/12320/2\n",
    "    - hidden 의 dimension\n",
    "2. embedding 거친 후엔 batch_size x seq_len x embedding_dim 임!\n",
    "    - embedding input은 batch_size x seq_len\n",
    "2. LSTM의 batch_first\n",
    "3. LSTM input의 dimension\n",
    "4. NLLLoss()의 dimension"
   ]
  },
  {
   "cell_type": "code",
   "execution_count": 128,
   "metadata": {},
   "outputs": [
    {
     "name": "stdout",
     "output_type": "stream",
     "text": [
      "3158 out of 3465 words left, which is 91.13997113997114 %\n",
      "3743 out of 39173 words left, which is 9.555050672657188 %\n"
     ]
    },
    {
     "data": {
      "application/vnd.jupyter.widget-view+json": {
       "model_id": "691dd796a99b410dbd48a9a1b79d7b8f",
       "version_major": 2,
       "version_minor": 0
      },
      "text/plain": [
       "HBox(children=(IntProgress(value=0, max=184342), HTML(value='')))"
      ]
     },
     "metadata": {},
     "output_type": "display_data"
    },
    {
     "name": "stdout",
     "output_type": "stream",
     "text": [
      "\n"
     ]
    }
   ],
   "source": [
    "%run Preprocessing.ipynb"
   ]
  },
  {
   "cell_type": "code",
   "execution_count": 10,
   "metadata": {},
   "outputs": [],
   "source": [
    "import torch\n",
    "import torch.nn as nn\n",
    "import torch.nn.functional as F\n",
    "from torch import optim\n",
    "\n",
    "from tqdm import tqdm_notebook"
   ]
  },
  {
   "cell_type": "code",
   "execution_count": 156,
   "metadata": {},
   "outputs": [],
   "source": [
    "class Config():\n",
    "    dropout = 0.2\n",
    "    \n",
    "    # Encoder\n",
    "    rating_size = 6\n",
    "    category_size = 71\n",
    "    tag_size = len(tagVocab.word2idx)    # tag vocab_size\n",
    "    pretrained = False \n",
    "    attribute_size = 64\n",
    "    hidden_size = 512 # fixed-vector size \n",
    "    \n",
    "    # Decoder\n",
    "    num_layers = 2\n",
    "    output_size =  len(rvVocab.word2idx)# review vocab_size\n",
    "    \n",
    "    # TEMP - 이거 어디서 관리하지? 여긴 아닌뎅\n",
    "    padding_idx = 0"
   ]
  },
  {
   "cell_type": "code",
   "execution_count": 112,
   "metadata": {},
   "outputs": [],
   "source": [
    "class Encoder(nn.Module):\n",
    "    def __init__(self, config):        \n",
    "        super().__init__()\n",
    "        self.config = config\n",
    "        \n",
    "        self.emb_rating = nn.Embedding(self.config.rating_size, self.config.attribute_size)   \n",
    "        self.emb_category = nn.Embedding(self.config.category_size, self.config.attribute_size)\n",
    "        self.emb_tag = nn.Embedding(self.config.tag_size, self.config.attribute_size,\n",
    "                                   padding_idx=self.config.padding_idx)        \n",
    "        self.out = nn.Linear(self.config.attribute_size * 3, self.config.hidden_size*self.config.num_layers)\n",
    "        self.init_hidden()\n",
    "        \n",
    "    def forward(self, rating, category, tag):\n",
    "        \"\"\"\n",
    "        Inputs:\n",
    "            rating: TENSOR of shape (batch_size, 1)\n",
    "            category: TENSOR of shape (batch_size, 1)\n",
    "            tag : 1) TENSOR of shape (batch_size, tag_MAXLEN)\n",
    "        Returns:\n",
    "            concatenated attr for attention, encoder_output\n",
    "        \"\"\"\n",
    "        \n",
    "        assert len(rating) == len(category) == len(tag)\n",
    "        attr_rating = self.emb_rating(rating)    # view no need!\n",
    "        attr_category = self.emb_category(category)\n",
    "        tag_len = self.get_tag_len(tag)    \n",
    "        attr_tag = torch.sum(self.emb_tag(tag), 1, keepdim=True) / tag_len    # CBOW\n",
    "                # 여기서 이렇게 해도 backprop 맞게 되나??\n",
    "        \n",
    "        attr = torch.cat((attr_rating, attr_category, attr_tag), 2)\n",
    "        out = self.out(attr)\n",
    "        encoder_output = F.tanh(out)\n",
    "        return attr, encoder_output\n",
    "    \n",
    "    def get_tag_len(self, tag): \n",
    "        \"\"\"padding 제외한 token 개수\"\"\"\n",
    "        return torch.sum(tag!=self.config.padding_idx, 1).unsqueeze(1).unsqueeze(1).type(torch.float)\n",
    "        \n",
    "    def init_hidden(self):\n",
    "        for param in self.parameters():\n",
    "            nn.init.uniform_(param, -0.08, 0.08)"
   ]
  },
  {
   "cell_type": "code",
   "execution_count": 113,
   "metadata": {},
   "outputs": [
    {
     "name": "stdout",
     "output_type": "stream",
     "text": [
      "===== Testing encoder... with single input =====\n",
      "torch.Size([1, 1, 192])\n",
      "torch.Size([1, 1, 1024])\n",
      "\n",
      "===== with multiple inputs =====\n",
      "torch.Size([2, 1, 192])\n",
      "torch.Size([2, 1, 1024])\n"
     ]
    }
   ],
   "source": [
    "print(\"===== Testing encoder... with single input =====\")\n",
    "config = Config()\n",
    "encoder = Encoder(config)\n",
    "rating = torch.tensor([[3]]).type(torch.long)    # idx of rating in tensor\n",
    "category = torch.tensor([[7]]).type(torch.long)  # idx of category in tensor\n",
    "tag = torch.tensor([[1,2,1]]).type(torch.long)    # idxs of tag\n",
    "attr, encoder_output = encoder(rating,category,tag)\n",
    "print(attr.size())\n",
    "print(encoder_output.size())\n",
    "\n",
    "print(\"\\n===== with multiple inputs =====\")\n",
    "rating = torch.tensor([[3],[4]])\n",
    "category = torch.tensor([[8],[1]])\n",
    "tag = torch.tensor([[1,2,1,2], [0,1,1,0]])    # 이렇게 하려면 padding 되어 있어야해!\n",
    "attr, encoder_output = encoder(rating,category,tag)\n",
    "print(attr.size())\n",
    "print(encoder_output.size())"
   ]
  },
  {
   "cell_type": "code",
   "execution_count": 114,
   "metadata": {},
   "outputs": [],
   "source": [
    "class Decoder(nn.Module):\n",
    "    def __init__(self, config):\n",
    "        super().__init__()\n",
    "        self.config = config\n",
    "        \n",
    "        # TODO: if self.config.pretrained = True\n",
    "        self.embedding = nn.Embedding(self.config.output_size, self.config.hidden_size)\n",
    "        self.lstm = nn.LSTM(self.config.hidden_size, self.config.hidden_size, \\\n",
    "                            num_layers=self.config.num_layers, dropout=self.config.dropout, \\\n",
    "                           batch_first=True)\n",
    "        self.out = nn.Linear(self.config.hidden_size, self.config.output_size)\n",
    "        \n",
    "    def forward(self, input_token, hidden):\n",
    "        \"\"\"\n",
    "        Inputs:\n",
    "            input_token: TENSOR of shape (batch_size, 1)\n",
    "            hidden: from last hidden of encoder\n",
    "        Returns:\n",
    "        \"\"\"\n",
    "        # 가운데 1이니까 unroll방식으로만!\n",
    "        output = self.embedding(input_token)\n",
    "        # LSTM의 hidden은 (hx, cx)\n",
    "        output, hidden = self.lstm(output, hidden)\n",
    "        output = self.out(output)\n",
    "        output = F.log_softmax(output, dim=2)\n",
    "        return output, hidden\n",
    "\n",
    "    def initHidden(self):\n",
    "        pass"
   ]
  },
  {
   "cell_type": "code",
   "execution_count": 115,
   "metadata": {},
   "outputs": [
    {
     "name": "stdout",
     "output_type": "stream",
     "text": [
      "====testing decoder with encoder_output...(batch=2)====\n",
      "\n",
      "input_token.size():  torch.Size([2, 1])\n",
      "hidden[0].size():  torch.Size([2, 2, 512])\n",
      "hidden[1].size():  torch.Size([2, 2, 512])\n",
      "output.size():  torch.Size([2, 1, 22195])\n"
     ]
    }
   ],
   "source": [
    "print(\"====testing decoder with encoder_output...(batch=2)====\\n\")\n",
    "decoder = Decoder(config)\n",
    "# h_0을 초기화시키고, c_0은 냅두기!!!(0으로 하든가 임의값으로 하든가)\n",
    "batch_size = encoder_output.size(0)    # same as len(encoder_output) and \n",
    "h_ = encoder_output.view(config.num_layers, 2, config.hidden_size)    # 2는 batch_size\n",
    "c_ = torch.zeros_like(h_)\n",
    "hidden = (h_, c_)\n",
    "\n",
    "input_token = torch.tensor([[1],[2]])  # shape (batch_size, seq_len)\n",
    "output, hidden = decoder(input_token, hidden)\n",
    "print(\"input_token.size(): \", input_token.size())\n",
    "print(\"hidden[0].size(): \", hidden[0].size())\n",
    "print(\"hidden[1].size(): \", hidden[1].size())\n",
    "print(\"output.size(): \", output.size())\n",
    "\n"
   ]
  },
  {
   "cell_type": "code",
   "execution_count": 146,
   "metadata": {},
   "outputs": [],
   "source": [
    "class Attr2Seq(nn.Module):\n",
    "    def __init__(self, config, criterion):\n",
    "        super().__init__()\n",
    "        self.config = config\n",
    "        self.criterion = criterion\n",
    "        self.encoder = Encoder(config)\n",
    "        self.decoder = Decoder(config)\n",
    "    \n",
    "    def forward(self, rating, category, tag, target_tensor):\n",
    "        # 함수 호출시 *[rating, category, tag]하기!\n",
    "\n",
    "        batch_size = target_tensor.size(0)\n",
    "        target_length = target_tensor.size(-1)\n",
    "        attr, encoder_output = self.encoder(rating,category,tag)\n",
    "        batch_size = encoder_output.size(0)\n",
    "        hidden = self.splitHidden(encoder_output)\n",
    "        input_token = torch.zeros((batch_size,1)).type(torch.long)    # SOS token\n",
    "        \n",
    "        decoder_outputs = []\n",
    "        for idx in range(target_length): \n",
    "            decoder_output, decoder_hidden = decoder(input_token, hidden)\n",
    "            topv, topi = decoder_output.topk(1)\n",
    "            input_token = topi.detach().view(batch_size, 1)\n",
    "            decoder_outputs.append(decoder_output)\n",
    "\n",
    "        # 이 아래 두 개 shape 조정은 loss function 요구 사항 맞추기 위함!\n",
    "        decoder_outputs = torch.cat(decoder_outputs, 1).view(batch_size*target_length, -1)\n",
    "        target_tensor = target_tensor.view(-1)\n",
    "        loss = self.criterion(decoder_outputs, target_tensor) / batch_size  # 나눠주는 게 맞냐??\n",
    "#         print(\"decoder_outputs: \", decoder_outputs)\n",
    "#         print(\"target_tensor: \", target_tensor)\n",
    "        return loss\n",
    "    \n",
    "    def splitHidden(self, encoder_output):\n",
    "        h_0 = encoder_output.view(self.config.num_layers, encoder_output.size(0), \\\n",
    "                                  self.config.hidden_size)\n",
    "        c_0 = torch.zeros_like(h_0) \n",
    "        return (h_0, c_0)\n",
    "    \n",
    "    def inference(self):\n",
    "        pass\n"
   ]
  },
  {
   "cell_type": "code",
   "execution_count": 157,
   "metadata": {},
   "outputs": [
    {
     "name": "stdout",
     "output_type": "stream",
     "text": [
      "==== testing Attr2Seq model... ====\n",
      "tensor(9.9900)\n",
      "\n",
      "==== baching(size 2) ====\n",
      "tensor(4.9976)\n"
     ]
    }
   ],
   "source": [
    "print(\"==== testing Attr2Seq model... ====\")\n",
    "criterion = nn.NLLLoss()     # TODO: padding loss빼주기ㅠㅠ\n",
    "model = Attr2Seq(config, criterion)\n",
    "input_list = [torch.tensor([[2]]).type(torch.long), torch.tensor([[7]]).type(torch.long),\n",
    "              torch.tensor([[0,2,1]])]\n",
    "target_tensor = torch.tensor([[9,2,1,3]])\n",
    "loss = model(*input_list, target_tensor)\n",
    "print(loss)\n",
    "\n",
    "print(\"\\n==== baching(size 2) ====\")\n",
    "input_list = [torch.tensor([[2],[1]]).type(torch.long), torch.tensor([[7],[5]]).type(torch.long),\n",
    "              torch.tensor([[0,2,1],[2,0,1]])]\n",
    "target_tensor = torch.tensor([[9,2,1,3,5], [3,2,3,2,1]])\n",
    "loss = model(*input_list, target_tensor)\n",
    "print(loss)"
   ]
  },
  {
   "cell_type": "code",
   "execution_count": 158,
   "metadata": {},
   "outputs": [],
   "source": [
    "# 그 전에 Train / Dev 나누기\n",
    "# TODO: data랑 받아서 정의된 data iterator로 불러오기\n",
    "\n",
    "def train(data, model, optimizer, num_steps):\n",
    "    model.train()\n",
    "\n",
    "    for t in tqdm_notebook(range(num_steps)):\n",
    "        optimizer.zero_grad()\n",
    "        r, c, t, rv = data_iterator(data = encoded_data, batch_size = 50)\n",
    "        loss = model(r, c, t, rv)\n",
    "        loss.backward()\n",
    "        optimizer.step()        \n",
    "        print(loss)\n",
    "\n",
    "    return loss.item()# / target_length"
   ]
  },
  {
   "cell_type": "code",
   "execution_count": null,
   "metadata": {},
   "outputs": [
    {
     "data": {
      "application/vnd.jupyter.widget-view+json": {
       "model_id": "1f6d6f4351d14af78f41f5f5dfa3ec2e",
       "version_major": 2,
       "version_minor": 0
      },
      "text/plain": [
       "HBox(children=(IntProgress(value=0), HTML(value='')))"
      ]
     },
     "metadata": {},
     "output_type": "display_data"
    },
    {
     "name": "stdout",
     "output_type": "stream",
     "text": [
      "tensor(nan.)\n",
      "tensor(nan.)\n",
      "tensor(nan.)\n",
      "tensor(nan.)\n",
      "tensor(nan.)\n",
      "tensor(nan.)\n",
      "tensor(nan.)\n",
      "tensor(nan.)\n",
      "tensor(nan.)\n",
      "tensor(nan.)\n",
      "tensor(nan.)\n",
      "tensor(nan.)\n",
      "tensor(nan.)\n",
      "tensor(nan.)\n",
      "tensor(nan.)\n",
      "tensor(nan.)\n",
      "tensor(nan.)\n",
      "tensor(nan.)\n",
      "tensor(nan.)\n",
      "tensor(nan.)\n",
      "tensor(nan.)\n",
      "tensor(nan.)\n",
      "tensor(nan.)\n",
      "tensor(nan.)\n",
      "tensor(nan.)\n",
      "tensor(nan.)\n",
      "tensor(nan.)\n",
      "tensor(nan.)\n",
      "tensor(nan.)\n",
      "tensor(nan.)\n",
      "tensor(nan.)\n",
      "tensor(nan.)\n",
      "tensor(nan.)\n",
      "tensor(nan.)\n",
      "tensor(nan.)\n",
      "tensor(nan.)\n",
      "tensor(nan.)\n",
      "tensor(nan.)\n",
      "tensor(nan.)\n",
      "tensor(nan.)\n",
      "tensor(nan.)\n",
      "tensor(nan.)\n",
      "tensor(nan.)\n",
      "tensor(nan.)\n",
      "tensor(nan.)\n"
     ]
    }
   ],
   "source": [
    "optimizer = optim.SGD(model.parameters(), lr=1)\n",
    "#optimizer = optim.RMSprop(model.parameters(), lr=0.2, alpha=0.95)\n",
    "temp_loss = train(encoded_data, model, optimizer, 100)\n",
    "print(temp_loss)"
   ]
  },
  {
   "cell_type": "code",
   "execution_count": 13,
   "metadata": {},
   "outputs": [],
   "source": [
    "def trainIters():\n",
    "    pass"
   ]
  },
  {
   "cell_type": "code",
   "execution_count": 9,
   "metadata": {},
   "outputs": [],
   "source": [
    "def evaluate():\n",
    "    pass"
   ]
  },
  {
   "cell_type": "code",
   "execution_count": 10,
   "metadata": {},
   "outputs": [],
   "source": [
    "def evaluateRandomly():\n",
    "    pass"
   ]
  },
  {
   "cell_type": "code",
   "execution_count": 101,
   "metadata": {},
   "outputs": [
    {
     "data": {
      "text/plain": [
       "2"
      ]
     },
     "execution_count": 101,
     "metadata": {},
     "output_type": "execute_result"
    }
   ],
   "source": [
    "torch.cuda.device_count()"
   ]
  },
  {
   "cell_type": "code",
   "execution_count": 104,
   "metadata": {},
   "outputs": [
    {
     "data": {
      "text/plain": [
       "True"
      ]
     },
     "execution_count": 104,
     "metadata": {},
     "output_type": "execute_result"
    }
   ],
   "source": [
    "torch.cuda.is_available()"
   ]
  },
  {
   "cell_type": "code",
   "execution_count": null,
   "metadata": {},
   "outputs": [],
   "source": []
  }
 ],
 "metadata": {
  "kernelspec": {
   "display_name": "Python [conda env:hwijeen_3.6]",
   "language": "python",
   "name": "conda-env-hwijeen_3.6-py"
  },
  "language_info": {
   "codemirror_mode": {
    "name": "ipython",
    "version": 3
   },
   "file_extension": ".py",
   "mimetype": "text/x-python",
   "name": "python",
   "nbconvert_exporter": "python",
   "pygments_lexer": "ipython3",
   "version": "3.6.4"
  }
 },
 "nbformat": 4,
 "nbformat_minor": 2
}
