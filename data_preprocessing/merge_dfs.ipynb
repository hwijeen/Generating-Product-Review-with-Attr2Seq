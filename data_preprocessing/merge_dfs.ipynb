{
 "cells": [
  {
   "cell_type": "code",
   "execution_count": 1,
   "metadata": {},
   "outputs": [],
   "source": [
    "import pandas as pd"
   ]
  },
  {
   "cell_type": "code",
   "execution_count": 2,
   "metadata": {},
   "outputs": [
    {
     "data": {
      "text/html": [
       "<div>\n",
       "<style scoped>\n",
       "    .dataframe tbody tr th:only-of-type {\n",
       "        vertical-align: middle;\n",
       "    }\n",
       "\n",
       "    .dataframe tbody tr th {\n",
       "        vertical-align: top;\n",
       "    }\n",
       "\n",
       "    .dataframe thead th {\n",
       "        text-align: right;\n",
       "    }\n",
       "</style>\n",
       "<table border=\"1\" class=\"dataframe\">\n",
       "  <thead>\n",
       "    <tr style=\"text-align: right;\">\n",
       "      <th></th>\n",
       "      <th>Id</th>\n",
       "      <th>Tags</th>\n",
       "    </tr>\n",
       "  </thead>\n",
       "  <tbody>\n",
       "    <tr>\n",
       "      <th>0</th>\n",
       "      <td>2301428333</td>\n",
       "      <td>여자 가방 쇼핑몰 여자 옷 쇼핑몰 추천 대여 쇼핑몰 대여 쇼핑몰 여자 지갑 추천 여...</td>\n",
       "    </tr>\n",
       "    <tr>\n",
       "      <th>1</th>\n",
       "      <td>2757633970</td>\n",
       "      <td>독특한 프랑스 감성 빈티 지갑 유니크 지갑 질 좋 개성 템 미니 파우치 가죽 동전지...</td>\n",
       "    </tr>\n",
       "    <tr>\n",
       "      <th>2</th>\n",
       "      <td>1002840624</td>\n",
       "      <td>귀여운 선물 좋</td>\n",
       "    </tr>\n",
       "    <tr>\n",
       "      <th>3</th>\n",
       "      <td>2668818308</td>\n",
       "      <td>상큼 포인트 티크 디자인 포인트 귀여운 디자인 수납 좋 미니 지갑 스타일 편리한 지...</td>\n",
       "    </tr>\n",
       "    <tr>\n",
       "      <th>4</th>\n",
       "      <td>1001594949</td>\n",
       "      <td>귀여운 러블리 포인트 패션</td>\n",
       "    </tr>\n",
       "  </tbody>\n",
       "</table>\n",
       "</div>"
      ],
      "text/plain": [
       "           Id                                               Tags\n",
       "0  2301428333  여자 가방 쇼핑몰 여자 옷 쇼핑몰 추천 대여 쇼핑몰 대여 쇼핑몰 여자 지갑 추천 여...\n",
       "1  2757633970  독특한 프랑스 감성 빈티 지갑 유니크 지갑 질 좋 개성 템 미니 파우치 가죽 동전지...\n",
       "2  1002840624                                           귀여운 선물 좋\n",
       "3  2668818308  상큼 포인트 티크 디자인 포인트 귀여운 디자인 수납 좋 미니 지갑 스타일 편리한 지...\n",
       "4  1001594949                                     귀여운 러블리 포인트 패션"
      ]
     },
     "execution_count": 2,
     "metadata": {},
     "output_type": "execute_result"
    }
   ],
   "source": [
    "# 태그\n",
    "tag_df = pd.read_csv('../crawling/tags_txt/tags_processed.csv', index_col=0)\n",
    "tag_df.head()"
   ]
  },
  {
   "cell_type": "code",
   "execution_count": 3,
   "metadata": {},
   "outputs": [
    {
     "data": {
      "text/html": [
       "<div>\n",
       "<style scoped>\n",
       "    .dataframe tbody tr th:only-of-type {\n",
       "        vertical-align: middle;\n",
       "    }\n",
       "\n",
       "    .dataframe tbody tr th {\n",
       "        vertical-align: top;\n",
       "    }\n",
       "\n",
       "    .dataframe thead th {\n",
       "        text-align: right;\n",
       "    }\n",
       "</style>\n",
       "<table border=\"1\" class=\"dataframe\">\n",
       "  <thead>\n",
       "    <tr style=\"text-align: right;\">\n",
       "      <th></th>\n",
       "      <th>Id</th>\n",
       "      <th>Rating</th>\n",
       "      <th>Review</th>\n",
       "    </tr>\n",
       "  </thead>\n",
       "  <tbody>\n",
       "    <tr>\n",
       "      <th>0</th>\n",
       "      <td>2301428333</td>\n",
       "      <td>추천</td>\n",
       "      <td>기여@@ 운 동전@@ 지갑@@ ♡ 복@@ 실@@ 복@@ 실 기여@@ 운 털@@ 동전...</td>\n",
       "    </tr>\n",
       "    <tr>\n",
       "      <th>1</th>\n",
       "      <td>2301428333</td>\n",
       "      <td>추천</td>\n",
       "      <td>기@@ 염 깜찍@@ ^^ 털이 보@@ 슬@@ 보@@ 슬@@ .@@ 하구요@@ ~~^...</td>\n",
       "    </tr>\n",
       "    <tr>\n",
       "      <th>5</th>\n",
       "      <td>2301428333</td>\n",
       "      <td>적극추천</td>\n",
       "      <td>너무 이뻐요 ^^ 사진으로 남겨@@ 보@@ 기는 처음이에요 근데 너무너무 만족스러워...</td>\n",
       "    </tr>\n",
       "    <tr>\n",
       "      <th>6</th>\n",
       "      <td>2301428333</td>\n",
       "      <td>적극추천</td>\n",
       "      <td>강추@@ 템 털빠짐이 좀 있긴한데 처음@@ 만 그러@@ 구 괜찮아요@@ ^.^ 판매...</td>\n",
       "    </tr>\n",
       "    <tr>\n",
       "      <th>7</th>\n",
       "      <td>2301428333</td>\n",
       "      <td>적극추천</td>\n",
       "      <td>너무 귀엽@@ 습니다! 아는 동생@@ 에게 선물@@ 할@@ 겸 커플로 하려고 검은색...</td>\n",
       "    </tr>\n",
       "  </tbody>\n",
       "</table>\n",
       "</div>"
      ],
      "text/plain": [
       "           Id Rating                                             Review\n",
       "0  2301428333     추천  기여@@ 운 동전@@ 지갑@@ ♡ 복@@ 실@@ 복@@ 실 기여@@ 운 털@@ 동전...\n",
       "1  2301428333     추천  기@@ 염 깜찍@@ ^^ 털이 보@@ 슬@@ 보@@ 슬@@ .@@ 하구요@@ ~~^...\n",
       "5  2301428333   적극추천  너무 이뻐요 ^^ 사진으로 남겨@@ 보@@ 기는 처음이에요 근데 너무너무 만족스러워...\n",
       "6  2301428333   적극추천  강추@@ 템 털빠짐이 좀 있긴한데 처음@@ 만 그러@@ 구 괜찮아요@@ ^.^ 판매...\n",
       "7  2301428333   적극추천  너무 귀엽@@ 습니다! 아는 동생@@ 에게 선물@@ 할@@ 겸 커플로 하려고 검은색..."
      ]
     },
     "execution_count": 3,
     "metadata": {},
     "output_type": "execute_result"
    }
   ],
   "source": [
    "# 만족도, 리뷰\n",
    "rating_review_df = pd.read_csv('../crawling/Reviews_csv/Reviews_merged_processed.csv', index_col=0)\n",
    "rating_review_df.head()"
   ]
  },
  {
   "cell_type": "code",
   "execution_count": 4,
   "metadata": {},
   "outputs": [
    {
     "data": {
      "text/html": [
       "<div>\n",
       "<style scoped>\n",
       "    .dataframe tbody tr th:only-of-type {\n",
       "        vertical-align: middle;\n",
       "    }\n",
       "\n",
       "    .dataframe tbody tr th {\n",
       "        vertical-align: top;\n",
       "    }\n",
       "\n",
       "    .dataframe thead th {\n",
       "        text-align: right;\n",
       "    }\n",
       "</style>\n",
       "<table border=\"1\" class=\"dataframe\">\n",
       "  <thead>\n",
       "    <tr style=\"text-align: right;\">\n",
       "      <th></th>\n",
       "      <th>Id</th>\n",
       "      <th>category</th>\n",
       "      <th>subcat</th>\n",
       "    </tr>\n",
       "  </thead>\n",
       "  <tbody>\n",
       "    <tr>\n",
       "      <th>0</th>\n",
       "      <td>1000092536</td>\n",
       "      <td>bags</td>\n",
       "      <td>12016001003</td>\n",
       "    </tr>\n",
       "    <tr>\n",
       "      <th>1</th>\n",
       "      <td>1000111193</td>\n",
       "      <td>bags</td>\n",
       "      <td>12016001009</td>\n",
       "    </tr>\n",
       "    <tr>\n",
       "      <th>2</th>\n",
       "      <td>1000128563</td>\n",
       "      <td>outer</td>\n",
       "      <td>12015004003</td>\n",
       "    </tr>\n",
       "    <tr>\n",
       "      <th>3</th>\n",
       "      <td>1000128881</td>\n",
       "      <td>bottom</td>\n",
       "      <td>12015009005</td>\n",
       "    </tr>\n",
       "    <tr>\n",
       "      <th>4</th>\n",
       "      <td>1000154667</td>\n",
       "      <td>outer</td>\n",
       "      <td>12015004003</td>\n",
       "    </tr>\n",
       "  </tbody>\n",
       "</table>\n",
       "</div>"
      ],
      "text/plain": [
       "           Id category       subcat\n",
       "0  1000092536     bags  12016001003\n",
       "1  1000111193     bags  12016001009\n",
       "2  1000128563    outer  12015004003\n",
       "3  1000128881   bottom  12015009005\n",
       "4  1000154667    outer  12015004003"
      ]
     },
     "execution_count": 4,
     "metadata": {},
     "output_type": "execute_result"
    }
   ],
   "source": [
    "# 카테고리\n",
    "category_df = pd.read_csv(\"../crawling/Category/category_processed.csv\", index_col=0)\n",
    "category_df.head()"
   ]
  },
  {
   "cell_type": "code",
   "execution_count": 5,
   "metadata": {},
   "outputs": [],
   "source": [
    "complete_df = pd.merge(tag_df, category_df, on=\"Id\")\n",
    "complete_df = pd.merge(complete_df, rating_review_df, on=\"Id\")\n",
    "complete_df.to_csv(\"../data/complete_df.csv\", encoding='utf-8')"
   ]
  },
  {
   "cell_type": "code",
   "execution_count": null,
   "metadata": {},
   "outputs": [],
   "source": []
  }
 ],
 "metadata": {
  "kernelspec": {
   "display_name": "Python [conda env:hwijeen_3.6]",
   "language": "python",
   "name": "conda-env-hwijeen_3.6-py"
  },
  "language_info": {
   "codemirror_mode": {
    "name": "ipython",
    "version": 3
   },
   "file_extension": ".py",
   "mimetype": "text/x-python",
   "name": "python",
   "nbconvert_exporter": "python",
   "pygments_lexer": "ipython3",
   "version": "3.6.4"
  }
 },
 "nbformat": 4,
 "nbformat_minor": 2
}
