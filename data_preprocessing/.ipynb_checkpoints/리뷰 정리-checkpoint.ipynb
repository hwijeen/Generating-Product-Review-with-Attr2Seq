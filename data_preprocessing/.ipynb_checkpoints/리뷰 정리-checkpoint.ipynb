{
 "cells": [
  {
   "cell_type": "markdown",
   "metadata": {},
   "source": [
    "# 리뷰 정리\n",
    "- 공백 리뷰 버리기\n",
    "- 무의미 리뷰 버리기(Jimin's Rule)\n",
    "(- 리뷰 길이)\n",
    "- 처리 완료된 리뷰 저장 ** String 그대로 **\n",
    "\n"
   ]
  },
  {
   "cell_type": "markdown",
   "metadata": {},
   "source": [
    "### TODO\n",
    "1. 리뷰 버리는 기준 보완하기: 진짜 필요 없는 애만 버리도록!\n"
   ]
  },
  {
   "cell_type": "code",
   "execution_count": 1,
   "metadata": {},
   "outputs": [],
   "source": [
    "import pandas as pd\n",
    "from konlpy.tag import Komoran, Twitter\n",
    "from tqdm import tqdm_notebook\n",
    "\n",
    "pd.set_option('display.max_rows', 1000)\n",
    "pd.set_option('display.width', 2000)"
   ]
  },
  {
   "cell_type": "markdown",
   "metadata": {},
   "source": [
    "### Review csv 파일 불러오기"
   ]
  },
  {
   "cell_type": "code",
   "execution_count": 2,
   "metadata": {},
   "outputs": [],
   "source": [
    "def read_from_csv(file):\n",
    "    \"\"\"\n",
    "    input : path/file.csv\n",
    "    return: pd.DataFrame with None review dropped    \n",
    "    \"\"\"\n",
    "    df = pd.read_csv(file, index_col=0)\n",
    "    df = df[df['Review'].notnull()]\n",
    "    return df "
   ]
  },
  {
   "cell_type": "code",
   "execution_count": 9,
   "metadata": {},
   "outputs": [
    {
     "data": {
      "text/html": [
       "<div>\n",
       "<style scoped>\n",
       "    .dataframe tbody tr th:only-of-type {\n",
       "        vertical-align: middle;\n",
       "    }\n",
       "\n",
       "    .dataframe tbody tr th {\n",
       "        vertical-align: top;\n",
       "    }\n",
       "\n",
       "    .dataframe thead th {\n",
       "        text-align: right;\n",
       "    }\n",
       "</style>\n",
       "<table border=\"1\" class=\"dataframe\">\n",
       "  <thead>\n",
       "    <tr style=\"text-align: right;\">\n",
       "      <th></th>\n",
       "      <th>Id</th>\n",
       "      <th>Rating</th>\n",
       "      <th>Review</th>\n",
       "    </tr>\n",
       "  </thead>\n",
       "  <tbody>\n",
       "    <tr>\n",
       "      <th>0</th>\n",
       "      <td>2301428333</td>\n",
       "      <td>추천</td>\n",
       "      <td>기여운 동전지갑♡ 복실복실 기여운 털동전지갑입니다. 가방 키링으로도 괜찮구요~ 열쇠...</td>\n",
       "    </tr>\n",
       "    <tr>\n",
       "      <th>1</th>\n",
       "      <td>2301428333</td>\n",
       "      <td>추천</td>\n",
       "      <td>기염 깜찍^^ 털이 보슬보슬.하구요~~^^ 귀여워요. 동전이랑 립스틱정도 넣고 다니...</td>\n",
       "    </tr>\n",
       "    <tr>\n",
       "      <th>2</th>\n",
       "      <td>2301428333</td>\n",
       "      <td>적극추천</td>\n",
       "      <td>귀여우용 제가 쓰려고 샀는데 카드가 안들어가길래 당황햇어요ㅠㅠ 그래서 어머니 키링으...</td>\n",
       "    </tr>\n",
       "    <tr>\n",
       "      <th>3</th>\n",
       "      <td>2301428333</td>\n",
       "      <td>적극추천</td>\n",
       "      <td>ㅇ선물 칭구 선물이라 일칙 주려구했는데 배송이 좀 걸렸지만 판매자분이 친절해서 기다...</td>\n",
       "    </tr>\n",
       "    <tr>\n",
       "      <th>4</th>\n",
       "      <td>2301428333</td>\n",
       "      <td>적극추천</td>\n",
       "      <td>배송 ㅠ 배송 일칙 받을수 잇다구해서 시켯는데 늦어졌음 ㅜㅜ 그래도 판매자분이 친절...</td>\n",
       "    </tr>\n",
       "  </tbody>\n",
       "</table>\n",
       "</div>"
      ],
      "text/plain": [
       "           Id Rating                                             Review\n",
       "0  2301428333     추천  기여운 동전지갑♡ 복실복실 기여운 털동전지갑입니다. 가방 키링으로도 괜찮구요~ 열쇠...\n",
       "1  2301428333     추천  기염 깜찍^^ 털이 보슬보슬.하구요~~^^ 귀여워요. 동전이랑 립스틱정도 넣고 다니...\n",
       "2  2301428333   적극추천  귀여우용 제가 쓰려고 샀는데 카드가 안들어가길래 당황햇어요ㅠㅠ 그래서 어머니 키링으...\n",
       "3  2301428333   적극추천  ㅇ선물 칭구 선물이라 일칙 주려구했는데 배송이 좀 걸렸지만 판매자분이 친절해서 기다...\n",
       "4  2301428333   적극추천  배송 ㅠ 배송 일칙 받을수 잇다구해서 시켯는데 늦어졌음 ㅜㅜ 그래도 판매자분이 친절..."
      ]
     },
     "execution_count": 9,
     "metadata": {},
     "output_type": "execute_result"
    }
   ],
   "source": [
    "file = '../crawling/Reviews_csv/reviews_merged.csv'\n",
    "reviews_all_df = read_from_csv(file)\n",
    "reviews_all_df.head()"
   ]
  },
  {
   "cell_type": "markdown",
   "metadata": {},
   "source": [
    "### 공백 리뷰 버리기"
   ]
  },
  {
   "cell_type": "code",
   "execution_count": 11,
   "metadata": {},
   "outputs": [],
   "source": [
    "def drop_empty_reviews(df):\n",
    "    before = len(df)\n",
    "    review_series = df['Review']\n",
    "    review_list_stripped = [item.strip() for item in review_series]\n",
    "    df['Review'] = review_list_stripped\n",
    "    df = df[df['Review'] != '']\n",
    "    after = len(df)\n",
    "    print(\"dropped: %d\\n\" % (before-after))\n",
    "    return df"
   ]
  },
  {
   "cell_type": "code",
   "execution_count": 12,
   "metadata": {},
   "outputs": [
    {
     "name": "stdout",
     "output_type": "stream",
     "text": [
      "dropped: 2921\n",
      "\n",
      "<class 'pandas.core.frame.DataFrame'>\n",
      "Int64Index: 264005 entries, 0 to 108934\n",
      "Data columns (total 3 columns):\n",
      "Id        264005 non-null int64\n",
      "Rating    264005 non-null object\n",
      "Review    264005 non-null object\n",
      "dtypes: int64(1), object(2)\n",
      "memory usage: 8.1+ MB\n"
     ]
    }
   ],
   "source": [
    "reviews_all_df = drop_empty_reviews(reviews_all_df)\n",
    "reviews_all_df.info()"
   ]
  },
  {
   "cell_type": "markdown",
   "metadata": {},
   "source": [
    "### 중복 리뷰 버리기"
   ]
  },
  {
   "cell_type": "code",
   "execution_count": 13,
   "metadata": {},
   "outputs": [],
   "source": [
    "def drop_duplicate_reviews(df):\n",
    "    before = len(df)\n",
    "    df = df.drop_duplicates()\n",
    "    after = len(df)\n",
    "    print(\"dropped: %d\\n\" % (before-after))\n",
    "    return df"
   ]
  },
  {
   "cell_type": "code",
   "execution_count": 14,
   "metadata": {},
   "outputs": [
    {
     "name": "stdout",
     "output_type": "stream",
     "text": [
      "dropped: 29034\n",
      "\n",
      "<class 'pandas.core.frame.DataFrame'>\n",
      "Int64Index: 234971 entries, 0 to 108934\n",
      "Data columns (total 3 columns):\n",
      "Id        234971 non-null int64\n",
      "Rating    234971 non-null object\n",
      "Review    234971 non-null object\n",
      "dtypes: int64(1), object(2)\n",
      "memory usage: 7.2+ MB\n"
     ]
    }
   ],
   "source": [
    "reviews_all_df = drop_duplicate_reviews(reviews_all_df)\n",
    "reviews_all_df.info()"
   ]
  },
  {
   "cell_type": "markdown",
   "metadata": {},
   "source": [
    "### 리뷰 형태소 분석 및 버리기(기준: Jimin's rule)"
   ]
  },
  {
   "cell_type": "code",
   "execution_count": 15,
   "metadata": {},
   "outputs": [],
   "source": [
    "def get_alphabet_ratio(sentence):\n",
    "    \"\"\"\n",
    "    input: pos tagged list(twitter.pos)\n",
    "    \"\"\"\n",
    "    num_alphabet = sum(item[1] == 'Alpha' for item in sentence)\n",
    "    return num_alphabet / len(sentence)\n",
    "\n",
    "def get_kparticle_num(sentence):\n",
    "    \"\"\"\n",
    "    input: pos tagged list(Twitter.pos)\n",
    "    \"\"\"\n",
    "    return sum(item[1] == 'KoreanParticle' for item in sentence)\n",
    "\n",
    "def pos_tag_reviews(df):\n",
    "    \"\"\"\n",
    "    pos tag reviews using twitter.pos(norm=True)\n",
    "    \"\"\"\n",
    "    review_list = df['Review'].tolist()\n",
    "    tagged_review_list = []\n",
    "    twitter = Twitter()    #\n",
    "    \n",
    "    print(\"pos_tagging_reviews...\")\n",
    "    for review in tqdm_notebook(review_list):\n",
    "        analyzed_result = twitter.pos(review, norm=True)\n",
    "        tagged_review_list.append(analyzed_result)\n",
    "    df['Review'] = tagged_review_list\n",
    "    return df\n",
    "\n",
    "def drop_useless_reviews(df):\n",
    "    \"\"\"\n",
    "    drops useless reviews based on Twitter.pos result\n",
    "    \"\"\"\n",
    "    review_list = df['Review'].tolist()\n",
    "    to_keep = []\n",
    "\n",
    "    print(\"dropping useless_reviews...\")\n",
    "    for review in review_list:\n",
    "        num_koreanparticle = get_kparticle_num(review)\n",
    "        ratio_alphabet = get_alphabet_ratio(review)\n",
    "        decision = False if num_koreanparticle != 0 or ratio_alphabet == 1 else True\n",
    "        to_keep.append(decision)\n",
    "    print('Reduced from %d => %d (%.2f%%)' % (len(df), sum(to_keep), \n",
    "                                              (sum(to_keep)/len(df))*100))\n",
    "    return df[to_keep]"
   ]
  },
  {
   "cell_type": "code",
   "execution_count": 134,
   "metadata": {},
   "outputs": [
    {
     "name": "stdout",
     "output_type": "stream",
     "text": [
      "pos_tagging_reviews...\n"
     ]
    },
    {
     "data": {
      "application/vnd.jupyter.widget-view+json": {
       "model_id": "3bd0df7cc7a144b3be3a9d732f57fb9c",
       "version_major": 2,
       "version_minor": 0
      },
      "text/plain": [
       "HBox(children=(IntProgress(value=0, max=154540), HTML(value='')))"
      ]
     },
     "metadata": {},
     "output_type": "display_data"
    },
    {
     "name": "stdout",
     "output_type": "stream",
     "text": [
      "\n",
      "Reduced from 154540 => 110322 (71.39%)\n"
     ]
    },
    {
     "data": {
      "text/html": [
       "<div>\n",
       "<style>\n",
       "    .dataframe thead tr:only-child th {\n",
       "        text-align: right;\n",
       "    }\n",
       "\n",
       "    .dataframe thead th {\n",
       "        text-align: left;\n",
       "    }\n",
       "\n",
       "    .dataframe tbody tr th {\n",
       "        vertical-align: top;\n",
       "    }\n",
       "</style>\n",
       "<table border=\"1\" class=\"dataframe\">\n",
       "  <thead>\n",
       "    <tr style=\"text-align: right;\">\n",
       "      <th></th>\n",
       "      <th>Id</th>\n",
       "      <th>Rating</th>\n",
       "      <th>Review</th>\n",
       "    </tr>\n",
       "  </thead>\n",
       "  <tbody>\n",
       "    <tr>\n",
       "      <th>0</th>\n",
       "      <td>2301428333</td>\n",
       "      <td>추천</td>\n",
       "      <td>[(귀여운, Adjective), (동전지갑, Noun), (♡, Foreign),...</td>\n",
       "    </tr>\n",
       "    <tr>\n",
       "      <th>1</th>\n",
       "      <td>2301428333</td>\n",
       "      <td>추천</td>\n",
       "      <td>[(기염, Noun), (깜, Verb), (찍, Noun), (^^, Punctu...</td>\n",
       "    </tr>\n",
       "    <tr>\n",
       "      <th>5</th>\n",
       "      <td>2301428333</td>\n",
       "      <td>적극추천</td>\n",
       "      <td>[(너무, Noun), (이뻐, Adjective), (요, Eomi), (^^, ...</td>\n",
       "    </tr>\n",
       "    <tr>\n",
       "      <th>6</th>\n",
       "      <td>2301428333</td>\n",
       "      <td>적극추천</td>\n",
       "      <td>[(강추템, Noun), (털, Noun), (빠짐, Verb), (이, Eomi)...</td>\n",
       "    </tr>\n",
       "    <tr>\n",
       "      <th>7</th>\n",
       "      <td>2301428333</td>\n",
       "      <td>적극추천</td>\n",
       "      <td>[(너무, Noun), (귀엽, Adjective), (습니다, Eomi), (!,...</td>\n",
       "    </tr>\n",
       "  </tbody>\n",
       "</table>\n",
       "</div>"
      ],
      "text/plain": [
       "           Id Rating                                             Review\n",
       "0  2301428333     추천  [(귀여운, Adjective), (동전지갑, Noun), (♡, Foreign),...\n",
       "1  2301428333     추천  [(기염, Noun), (깜, Verb), (찍, Noun), (^^, Punctu...\n",
       "5  2301428333   적극추천  [(너무, Noun), (이뻐, Adjective), (요, Eomi), (^^, ...\n",
       "6  2301428333   적극추천  [(강추템, Noun), (털, Noun), (빠짐, Verb), (이, Eomi)...\n",
       "7  2301428333   적극추천  [(너무, Noun), (귀엽, Adjective), (습니다, Eomi), (!,..."
      ]
     },
     "execution_count": 134,
     "metadata": {},
     "output_type": "execute_result"
    }
   ],
   "source": [
    "reviews_all_df = pos_tag_reviews(reviews_all_df)\n",
    "reviews_all_df = drop_useless_reviews(reviews_all_df)\n",
    "reviews_all_df.head()"
   ]
  },
  {
   "cell_type": "markdown",
   "metadata": {},
   "source": [
    "### 리뷰 평균 길이\n"
   ]
  },
  {
   "cell_type": "code",
   "execution_count": 138,
   "metadata": {},
   "outputs": [],
   "source": [
    "def get_review_len(df):\n",
    "    \"\"\"\n",
    "    adds review_len column to df\n",
    "    \"\"\"\n",
    "    review_list = df['Review'].tolist()\n",
    "    review_len_list = [len(review) for review in review_list]\n",
    "    df['Review_len_morph'] = review_len_list\n",
    "\n",
    "    avg_review_len = sum(review_len_list) // len(review_len_list)\n",
    "    print(\"리뷰 평균 길이(형태소 개수): \", avg_review_len)\n",
    "    return df"
   ]
  },
  {
   "cell_type": "code",
   "execution_count": 144,
   "metadata": {},
   "outputs": [
    {
     "name": "stdout",
     "output_type": "stream",
     "text": [
      "리뷰 평균 길이(형태소 개수):  19\n"
     ]
    },
    {
     "data": {
      "text/html": [
       "<div>\n",
       "<style>\n",
       "    .dataframe thead tr:only-child th {\n",
       "        text-align: right;\n",
       "    }\n",
       "\n",
       "    .dataframe thead th {\n",
       "        text-align: left;\n",
       "    }\n",
       "\n",
       "    .dataframe tbody tr th {\n",
       "        vertical-align: top;\n",
       "    }\n",
       "</style>\n",
       "<table border=\"1\" class=\"dataframe\">\n",
       "  <thead>\n",
       "    <tr style=\"text-align: right;\">\n",
       "      <th></th>\n",
       "      <th>Id</th>\n",
       "      <th>Rating</th>\n",
       "      <th>Review</th>\n",
       "      <th>Review_len_morph</th>\n",
       "    </tr>\n",
       "  </thead>\n",
       "  <tbody>\n",
       "    <tr>\n",
       "      <th>0</th>\n",
       "      <td>2301428333</td>\n",
       "      <td>추천</td>\n",
       "      <td>[(귀여운, Adjective), (동전지갑, Noun), (♡, Foreign),...</td>\n",
       "      <td>32</td>\n",
       "    </tr>\n",
       "    <tr>\n",
       "      <th>1</th>\n",
       "      <td>2301428333</td>\n",
       "      <td>추천</td>\n",
       "      <td>[(기염, Noun), (깜, Verb), (찍, Noun), (^^, Punctu...</td>\n",
       "      <td>33</td>\n",
       "    </tr>\n",
       "    <tr>\n",
       "      <th>5</th>\n",
       "      <td>2301428333</td>\n",
       "      <td>적극추천</td>\n",
       "      <td>[(너무, Noun), (이뻐, Adjective), (요, Eomi), (^^, ...</td>\n",
       "      <td>30</td>\n",
       "    </tr>\n",
       "    <tr>\n",
       "      <th>6</th>\n",
       "      <td>2301428333</td>\n",
       "      <td>적극추천</td>\n",
       "      <td>[(강추템, Noun), (털, Noun), (빠짐, Verb), (이, Eomi)...</td>\n",
       "      <td>30</td>\n",
       "    </tr>\n",
       "    <tr>\n",
       "      <th>7</th>\n",
       "      <td>2301428333</td>\n",
       "      <td>적극추천</td>\n",
       "      <td>[(너무, Noun), (귀엽, Adjective), (습니다, Eomi), (!,...</td>\n",
       "      <td>63</td>\n",
       "    </tr>\n",
       "  </tbody>\n",
       "</table>\n",
       "</div>"
      ],
      "text/plain": [
       "           Id Rating                                             Review  Review_len_morph\n",
       "0  2301428333     추천  [(귀여운, Adjective), (동전지갑, Noun), (♡, Foreign),...                32\n",
       "1  2301428333     추천  [(기염, Noun), (깜, Verb), (찍, Noun), (^^, Punctu...                33\n",
       "5  2301428333   적극추천  [(너무, Noun), (이뻐, Adjective), (요, Eomi), (^^, ...                30\n",
       "6  2301428333   적극추천  [(강추템, Noun), (털, Noun), (빠짐, Verb), (이, Eomi)...                30\n",
       "7  2301428333   적극추천  [(너무, Noun), (귀엽, Adjective), (습니다, Eomi), (!,...                63"
      ]
     },
     "execution_count": 144,
     "metadata": {},
     "output_type": "execute_result"
    }
   ],
   "source": [
    "reviews_all_df = get_review_len(reviews_all_df)\n",
    "reviews_all_df.head()"
   ]
  },
  {
   "cell_type": "markdown",
   "metadata": {},
   "source": [
    "### 파일 저장"
   ]
  },
  {
   "cell_type": "code",
   "execution_count": 51,
   "metadata": {},
   "outputs": [],
   "source": [
    "reviews_all_df.to_csv(\"../crawling/Reviews_csv/Reviews_merged_processed.csv\",\n",
    "                     encoding='utf-8')"
   ]
  }
 ],
 "metadata": {
  "kernelspec": {
   "display_name": "Python [default]",
   "language": "python",
   "name": "python3"
  },
  "language_info": {
   "codemirror_mode": {
    "name": "ipython",
    "version": 3
   },
   "file_extension": ".py",
   "mimetype": "text/x-python",
   "name": "python",
   "nbconvert_exporter": "python",
   "pygments_lexer": "ipython3",
   "version": "3.6.4"
  }
 },
 "nbformat": 4,
 "nbformat_minor": 2
}
